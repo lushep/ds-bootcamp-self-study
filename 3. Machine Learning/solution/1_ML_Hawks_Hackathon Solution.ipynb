{
 "cells": [
  {
   "cell_type": "markdown",
   "metadata": {},
   "source": [
    "<img src=images/gdd-logo.png width=300px align=right>\n",
    "\n",
    "# Hawks Hackathon\n",
    "\n",
    "## About the data\n",
    "Students and faculty at Cornell College in Mount Vernon, Iowa, collected data over many years at the hawk blind at Lake MacBride near Iowa City, Iowa. The data set that we are analyzing here is a subset of the original data set, using only those species for which there were more than 10 observations. Data were collected on random samples of three different species of hawks: Red-tailed, Sharp-shinned, and Cooper's hawks. Professor Bob Black at Cornell College shared the data. \n",
    "\n",
    "The dataset provides a great dataset for data exploration & visualisation. \n",
    "\n",
    "|Field|Description|\n",
    "|:---|:---|\n",
    "|month|\t8=September to 12=December|\n",
    "|day|\tDate in the month|\n",
    "|year|\tYear: 1992-2003|\n",
    "|capturetime|\tTime of capture (HH:MM)|\n",
    "|releasetime|\tTime of release (HH:MM)|\n",
    "|bandnumber|\tID band code|\n",
    "|species|\tCH=Cooper's, RT=Red-tailed, SS=Sharp-Shinned|\n",
    "|age|\tA=Adult or I=Imature|\n",
    "|wing|\tLength (in mm) of primary wing feather from tip to wrist it attaches to|\n",
    "|weight|\tBody weight (in gm)|\n",
    "|culmen|\tLength (in mm) of the upper bill from the tip to where it bumps into the fleshy part of the bird|\n",
    "|hallux|\tLength (in mm) of the killing talon|\n",
    "|tail|\tMeasurement (in mm) related to the length of the tail (invented at the MacBride Raptor Center)|\n",
    "|standardtail|\tStandard measurement of tail length (in mm)|\n",
    "|tarsus|\tLength of the basic foot bone (in mm)|\n",
    "|wingpitfat|\tAmount of fat in the wing pit|\n",
    "|keelfat|\tAmount of fat on the breastbone (measured by feel)|\n",
    "|crop|\tAmount of material in the crop, coded from 1=full to 0=empty|\n",
    "\n",
    "## Hackathon\n",
    "\n",
    "The goal of this hackathon is to explore data and get some key insights from the data to learn about the three different types of hawk species. \n",
    "\n",
    "<img src='images/hawkscropped.png'> \n",
    "\n",
    "### Steps to completion\n",
    "\n",
    "The first thing you must so with any analysis is to **come up with an overall business goal**. This should be a general question you want to answer, or hypothesis you want to determine is true or not. You can choose from one of the following questions, or make up your own:\n",
    "   - Has the number of hawks for each species increased or decreased over time?\n",
    "   - What is the most common time of year/day to see a hawk?\n",
    "    \n",
    "Once you have your business goal you can follow the following steps:\n",
    "\n",
    "1. [**Load the data:**](#one)\n",
    "2. [**Exploratory Analysis:**](#two)\n",
    "3. [**Build a model**](#three)\n",
    "4. [**Summary & Next Steps:**](#four)"
   ]
  },
  {
   "cell_type": "code",
   "execution_count": 1,
   "metadata": {},
   "outputs": [],
   "source": [
    "import pandas as pd\n",
    "import numpy as np"
   ]
  },
  {
   "cell_type": "markdown",
   "metadata": {},
   "source": [
    "<a id = 'one'></a>\n",
    "## 1. Loading our data\n",
    "\n",
    "There are many places your data can originate from. Maybe you want to load it from a Excel file you have stored locally on your system, maybe you have a .csv file stored online somewhere. Scikit-learn comes with various standard datasets that can be used for practice, that can be loaded if you have scikit-learn installed on your system. \n",
    "\n",
    "However, the dataset we will be using today (the R hawks dataset) does not come from scikit-learn, but from a package in R. Luckily for us we can access that data [from here](https://vincentarelbundock.github.io/Rdatasets/csv/Stat2Data/Hawks.csv)\n",
    "\n",
    "The data has been downloaded stored here: `'../data/hawks.csv'`."
   ]
  },
  {
   "cell_type": "code",
   "execution_count": 67,
   "metadata": {},
   "outputs": [
    {
     "data": {
      "text/html": [
       "<div>\n",
       "<style scoped>\n",
       "    .dataframe tbody tr th:only-of-type {\n",
       "        vertical-align: middle;\n",
       "    }\n",
       "\n",
       "    .dataframe tbody tr th {\n",
       "        vertical-align: top;\n",
       "    }\n",
       "\n",
       "    .dataframe thead th {\n",
       "        text-align: right;\n",
       "    }\n",
       "</style>\n",
       "<table border=\"1\" class=\"dataframe\">\n",
       "  <thead>\n",
       "    <tr style=\"text-align: right;\">\n",
       "      <th></th>\n",
       "      <th>month</th>\n",
       "      <th>day</th>\n",
       "      <th>year</th>\n",
       "      <th>capturetime</th>\n",
       "      <th>releasetime</th>\n",
       "      <th>bandnumber</th>\n",
       "      <th>species</th>\n",
       "      <th>age</th>\n",
       "      <th>sex</th>\n",
       "      <th>wing</th>\n",
       "      <th>hallux</th>\n",
       "      <th>tail</th>\n",
       "      <th>standardtail</th>\n",
       "      <th>tarsus</th>\n",
       "      <th>wingpitfat</th>\n",
       "      <th>keelfat</th>\n",
       "      <th>crop</th>\n",
       "    </tr>\n",
       "  </thead>\n",
       "  <tbody>\n",
       "    <tr>\n",
       "      <th>0</th>\n",
       "      <td>9</td>\n",
       "      <td>19</td>\n",
       "      <td>1992</td>\n",
       "      <td>13:30</td>\n",
       "      <td>NaN</td>\n",
       "      <td>877-76317</td>\n",
       "      <td>RT</td>\n",
       "      <td>I</td>\n",
       "      <td>NaN</td>\n",
       "      <td>385.0</td>\n",
       "      <td>30.1</td>\n",
       "      <td>219</td>\n",
       "      <td>NaN</td>\n",
       "      <td>NaN</td>\n",
       "      <td>NaN</td>\n",
       "      <td>NaN</td>\n",
       "      <td>NaN</td>\n",
       "    </tr>\n",
       "    <tr>\n",
       "      <th>1</th>\n",
       "      <td>9</td>\n",
       "      <td>22</td>\n",
       "      <td>1992</td>\n",
       "      <td>10:30</td>\n",
       "      <td></td>\n",
       "      <td>877-76318</td>\n",
       "      <td>RT</td>\n",
       "      <td>I</td>\n",
       "      <td>NaN</td>\n",
       "      <td>376.0</td>\n",
       "      <td>NaN</td>\n",
       "      <td>221</td>\n",
       "      <td>NaN</td>\n",
       "      <td>NaN</td>\n",
       "      <td>NaN</td>\n",
       "      <td>NaN</td>\n",
       "      <td>NaN</td>\n",
       "    </tr>\n",
       "    <tr>\n",
       "      <th>2</th>\n",
       "      <td>9</td>\n",
       "      <td>23</td>\n",
       "      <td>1992</td>\n",
       "      <td>12:45</td>\n",
       "      <td></td>\n",
       "      <td>877-76319</td>\n",
       "      <td>RT</td>\n",
       "      <td>I</td>\n",
       "      <td>NaN</td>\n",
       "      <td>381.0</td>\n",
       "      <td>31.3</td>\n",
       "      <td>235</td>\n",
       "      <td>NaN</td>\n",
       "      <td>NaN</td>\n",
       "      <td>NaN</td>\n",
       "      <td>NaN</td>\n",
       "      <td>NaN</td>\n",
       "    </tr>\n",
       "    <tr>\n",
       "      <th>3</th>\n",
       "      <td>9</td>\n",
       "      <td>23</td>\n",
       "      <td>1992</td>\n",
       "      <td>10:50</td>\n",
       "      <td></td>\n",
       "      <td>745-49508</td>\n",
       "      <td>CH</td>\n",
       "      <td>I</td>\n",
       "      <td>F</td>\n",
       "      <td>265.0</td>\n",
       "      <td>23.5</td>\n",
       "      <td>220</td>\n",
       "      <td>NaN</td>\n",
       "      <td>NaN</td>\n",
       "      <td>NaN</td>\n",
       "      <td>NaN</td>\n",
       "      <td>NaN</td>\n",
       "    </tr>\n",
       "    <tr>\n",
       "      <th>4</th>\n",
       "      <td>9</td>\n",
       "      <td>27</td>\n",
       "      <td>1992</td>\n",
       "      <td>11:15</td>\n",
       "      <td></td>\n",
       "      <td>1253-98801</td>\n",
       "      <td>SS</td>\n",
       "      <td>I</td>\n",
       "      <td>F</td>\n",
       "      <td>205.0</td>\n",
       "      <td>14.3</td>\n",
       "      <td>157</td>\n",
       "      <td>NaN</td>\n",
       "      <td>NaN</td>\n",
       "      <td>NaN</td>\n",
       "      <td>NaN</td>\n",
       "      <td>NaN</td>\n",
       "    </tr>\n",
       "  </tbody>\n",
       "</table>\n",
       "</div>"
      ],
      "text/plain": [
       "   month  day  year capturetime releasetime  bandnumber species age  sex  \\\n",
       "0      9   19  1992       13:30         NaN   877-76317      RT   I  NaN   \n",
       "1      9   22  1992       10:30               877-76318      RT   I  NaN   \n",
       "2      9   23  1992       12:45               877-76319      RT   I  NaN   \n",
       "3      9   23  1992       10:50               745-49508      CH   I    F   \n",
       "4      9   27  1992       11:15              1253-98801      SS   I    F   \n",
       "\n",
       "    wing  hallux  tail  standardtail  tarsus  wingpitfat  keelfat  crop  \n",
       "0  385.0    30.1   219           NaN     NaN         NaN      NaN   NaN  \n",
       "1  376.0     NaN   221           NaN     NaN         NaN      NaN   NaN  \n",
       "2  381.0    31.3   235           NaN     NaN         NaN      NaN   NaN  \n",
       "3  265.0    23.5   220           NaN     NaN         NaN      NaN   NaN  \n",
       "4  205.0    14.3   157           NaN     NaN         NaN      NaN   NaN  "
      ]
     },
     "execution_count": 67,
     "metadata": {},
     "output_type": "execute_result"
    }
   ],
   "source": [
    "hawks = pd.read_csv('data/hawks.csv')\n",
    "hawks.head()"
   ]
  },
  {
   "cell_type": "markdown",
   "metadata": {},
   "source": [
    "<a id = 'two'></a>\n",
    "## 2. Exploratory Analysis\n",
    "\n",
    "The first thing we must do before we answer our overall goal is to ask small questions to start to understand the data. Answer the following questions (and come up with any of your own related to your overall goal):\n",
    "\n",
    "1. How many missings are there in each column?"
   ]
  },
  {
   "cell_type": "code",
   "execution_count": 73,
   "metadata": {},
   "outputs": [
    {
     "data": {
      "text/plain": [
       "month             0\n",
       "day               0\n",
       "year              0\n",
       "capturetime       0\n",
       "releasetime       1\n",
       "bandnumber        0\n",
       "species           0\n",
       "age               0\n",
       "sex             576\n",
       "wing              1\n",
       "hallux            6\n",
       "tail              0\n",
       "standardtail    337\n",
       "tarsus          833\n",
       "wingpitfat      831\n",
       "keelfat         341\n",
       "crop            343\n",
       "dtype: int64"
      ]
     },
     "execution_count": 73,
     "metadata": {},
     "output_type": "execute_result"
    }
   ],
   "source": [
    "hawks.isnull().sum()"
   ]
  },
  {
   "cell_type": "markdown",
   "metadata": {},
   "source": [
    "2. What is the mean length (in mm) of the tail of the hawks?"
   ]
  },
  {
   "cell_type": "code",
   "execution_count": 74,
   "metadata": {},
   "outputs": [
    {
     "data": {
      "text/plain": [
       "119"
      ]
     },
     "execution_count": 74,
     "metadata": {},
     "output_type": "execute_result"
    }
   ],
   "source": [
    "hawks['tail'].min()"
   ]
  },
  {
   "cell_type": "markdown",
   "metadata": {},
   "source": [
    "3. What is the median tail by species?"
   ]
  },
  {
   "cell_type": "code",
   "execution_count": 75,
   "metadata": {},
   "outputs": [
    {
     "data": {
      "text/plain": [
       "species\n",
       "CH    199.0\n",
       "RT    221.0\n",
       "SS    150.0\n",
       "Name: tail, dtype: float64"
      ]
     },
     "execution_count": 75,
     "metadata": {},
     "output_type": "execute_result"
    }
   ],
   "source": [
    "hawks.groupby('species')['tail'].median()"
   ]
  },
  {
   "cell_type": "markdown",
   "metadata": {},
   "source": [
    "4. How many observations do you have for each year?"
   ]
  },
  {
   "cell_type": "code",
   "execution_count": 78,
   "metadata": {},
   "outputs": [
    {
     "data": {
      "text/plain": [
       "<AxesSubplot:>"
      ]
     },
     "execution_count": 78,
     "metadata": {},
     "output_type": "execute_result"
    },
    {
     "data": {
      "image/png": "[encoded data removed]",
      "text/plain": [
       "<Figure size 432x288 with 1 Axes>"
      ]
     },
     "metadata": {
      "needs_background": "light"
     },
     "output_type": "display_data"
    }
   ],
   "source": [
    "hawks['year'].value_counts().sort_index().plot()"
   ]
  },
  {
   "cell_type": "markdown",
   "metadata": {},
   "source": [
    "5. What were the most common times of capture?"
   ]
  },
  {
   "cell_type": "code",
   "execution_count": 80,
   "metadata": {},
   "outputs": [
    {
     "data": {
      "text/plain": [
       "0    11:35\n",
       "1    13:30\n",
       "Name: capturetime, dtype: object"
      ]
     },
     "execution_count": 80,
     "metadata": {},
     "output_type": "execute_result"
    }
   ],
   "source": [
    "hawks['capturetime'].mode()"
   ]
  },
  {
   "cell_type": "markdown",
   "metadata": {},
   "source": [
    "<a id = 'three'></a>\n",
    "## 3. Build a Decision Tree model\n",
    "\n",
    "1. Remove any columns with a missing value ratio of 10% or higher\n",
    "2. Drop the remaining missing values \n",
    "3. Remove any categorical columns\n",
    "4. Split the data into X and y\n",
    "5. Use the train_test_split method using a random_state\n",
    "6. Instantiate a DecisionTreeClassifier with a max_depth of 5\n",
    "7. Fit the model to `X_train` and `y_train`\n",
    "8. Calculate the `accuracy_score` and print the `classfication report`"
   ]
  },
  {
   "cell_type": "code",
   "execution_count": 68,
   "metadata": {},
   "outputs": [],
   "source": [
    "missing_cols = list(hawks.columns[hawks.isnull().mean()>0.1])\n",
    "cat_cols = ['capturetime', 'releasetime', 'bandnumber', 'age']"
   ]
  },
  {
   "cell_type": "code",
   "execution_count": 69,
   "metadata": {},
   "outputs": [],
   "source": [
    "cleaned_hawks = (\n",
    "    hawks\n",
    "    .drop(columns=missing_cols + cat_cols)\n",
    "    .dropna()\n",
    ")\n",
    "\n",
    "X = cleaned_hawks.drop(columns=['species'])\n",
    "y = cleaned_hawks['species']"
   ]
  },
  {
   "cell_type": "code",
   "execution_count": 70,
   "metadata": {},
   "outputs": [
    {
     "name": "stdout",
     "output_type": "stream",
     "text": [
      "(675, 6)\n",
      "(226, 6)\n",
      "(675,)\n",
      "(226,)\n"
     ]
    }
   ],
   "source": [
    "from sklearn.model_selection import train_test_split\n",
    "\n",
    "X_train, X_test, y_train, y_test = train_test_split(X, y, random_state=123)\n",
    "\n",
    "for df in (X_train, X_test, y_train, y_test ):\n",
    "    print(df.shape)"
   ]
  },
  {
   "cell_type": "code",
   "execution_count": 71,
   "metadata": {},
   "outputs": [
    {
     "data": {
      "text/html": [
       "<style>#sk-container-id-6 {color: black;background-color: white;}#sk-container-id-6 pre{padding: 0;}#sk-container-id-6 div.sk-toggleable {background-color: white;}#sk-container-id-6 label.sk-toggleable__label {cursor: pointer;display: block;width: 100%;margin-bottom: 0;padding: 0.3em;box-sizing: border-box;text-align: center;}#sk-container-id-6 label.sk-toggleable__label-arrow:before {content: \"▸\";float: left;margin-right: 0.25em;color: #696969;}#sk-container-id-6 label.sk-toggleable__label-arrow:hover:before {color: black;}#sk-container-id-6 div.sk-estimator:hover label.sk-toggleable__label-arrow:before {color: black;}#sk-container-id-6 div.sk-toggleable__content {max-height: 0;max-width: 0;overflow: hidden;text-align: left;background-color: #f0f8ff;}#sk-container-id-6 div.sk-toggleable__content pre {margin: 0.2em;color: black;border-radius: 0.25em;background-color: #f0f8ff;}#sk-container-id-6 input.sk-toggleable__control:checked~div.sk-toggleable__content {max-height: 200px;max-width: 100%;overflow: auto;}#sk-container-id-6 input.sk-toggleable__control:checked~label.sk-toggleable__label-arrow:before {content: \"▾\";}#sk-container-id-6 div.sk-estimator input.sk-toggleable__control:checked~label.sk-toggleable__label {background-color: #d4ebff;}#sk-container-id-6 div.sk-label input.sk-toggleable__control:checked~label.sk-toggleable__label {background-color: #d4ebff;}#sk-container-id-6 input.sk-hidden--visually {border: 0;clip: rect(1px 1px 1px 1px);clip: rect(1px, 1px, 1px, 1px);height: 1px;margin: -1px;overflow: hidden;padding: 0;position: absolute;width: 1px;}#sk-container-id-6 div.sk-estimator {font-family: monospace;background-color: #f0f8ff;border: 1px dotted black;border-radius: 0.25em;box-sizing: border-box;margin-bottom: 0.5em;}#sk-container-id-6 div.sk-estimator:hover {background-color: #d4ebff;}#sk-container-id-6 div.sk-parallel-item::after {content: \"\";width: 100%;border-bottom: 1px solid gray;flex-grow: 1;}#sk-container-id-6 div.sk-label:hover label.sk-toggleable__label {background-color: #d4ebff;}#sk-container-id-6 div.sk-serial::before {content: \"\";position: absolute;border-left: 1px solid gray;box-sizing: border-box;top: 0;bottom: 0;left: 50%;z-index: 0;}#sk-container-id-6 div.sk-serial {display: flex;flex-direction: column;align-items: center;background-color: white;padding-right: 0.2em;padding-left: 0.2em;position: relative;}#sk-container-id-6 div.sk-item {position: relative;z-index: 1;}#sk-container-id-6 div.sk-parallel {display: flex;align-items: stretch;justify-content: center;background-color: white;position: relative;}#sk-container-id-6 div.sk-item::before, #sk-container-id-6 div.sk-parallel-item::before {content: \"\";position: absolute;border-left: 1px solid gray;box-sizing: border-box;top: 0;bottom: 0;left: 50%;z-index: -1;}#sk-container-id-6 div.sk-parallel-item {display: flex;flex-direction: column;z-index: 1;position: relative;background-color: white;}#sk-container-id-6 div.sk-parallel-item:first-child::after {align-self: flex-end;width: 50%;}#sk-container-id-6 div.sk-parallel-item:last-child::after {align-self: flex-start;width: 50%;}#sk-container-id-6 div.sk-parallel-item:only-child::after {width: 0;}#sk-container-id-6 div.sk-dashed-wrapped {border: 1px dashed gray;margin: 0 0.4em 0.5em 0.4em;box-sizing: border-box;padding-bottom: 0.4em;background-color: white;}#sk-container-id-6 div.sk-label label {font-family: monospace;font-weight: bold;display: inline-block;line-height: 1.2em;}#sk-container-id-6 div.sk-label-container {text-align: center;}#sk-container-id-6 div.sk-container {/* jupyter's `normalize.less` sets `[hidden] { display: none; }` but bootstrap.min.css set `[hidden] { display: none !important; }` so we also need the `!important` here to be able to override the default hidden behavior on the sphinx rendered scikit-learn.org. See: https://github.com/scikit-learn/scikit-learn/issues/21755 */display: inline-block !important;position: relative;}#sk-container-id-6 div.sk-text-repr-fallback {display: none;}</style><div id=\"sk-container-id-6\" class=\"sk-top-container\"><div class=\"sk-text-repr-fallback\"><pre>DecisionTreeClassifier(max_depth=5, random_state=123)</pre><b>In a Jupyter environment, please rerun this cell to show the HTML representation or trust the notebook. <br />On GitHub, the HTML representation is unable to render, please try loading this page with nbviewer.org.</b></div><div class=\"sk-container\" hidden><div class=\"sk-item\"><div class=\"sk-estimator sk-toggleable\"><input class=\"sk-toggleable__control sk-hidden--visually\" id=\"sk-estimator-id-6\" type=\"checkbox\" checked><label for=\"sk-estimator-id-6\" class=\"sk-toggleable__label sk-toggleable__label-arrow\">DecisionTreeClassifier</label><div class=\"sk-toggleable__content\"><pre>DecisionTreeClassifier(max_depth=5, random_state=123)</pre></div></div></div></div></div>"
      ],
      "text/plain": [
       "DecisionTreeClassifier(max_depth=5, random_state=123)"
      ]
     },
     "execution_count": 71,
     "metadata": {},
     "output_type": "execute_result"
    }
   ],
   "source": [
    "from sklearn.tree import DecisionTreeClassifier\n",
    "\n",
    "model = DecisionTreeClassifier(max_depth=5, random_state=123)\n",
    "\n",
    "model.fit(X_train, y_train)"
   ]
  },
  {
   "cell_type": "code",
   "execution_count": 72,
   "metadata": {},
   "outputs": [
    {
     "name": "stdout",
     "output_type": "stream",
     "text": [
      "Accuracy score: 0.9867256637168141\n",
      "              precision    recall  f1-score   support\n",
      "\n",
      "          CH       1.00      0.88      0.93        16\n",
      "          RT       0.99      0.99      0.99       146\n",
      "          SS       0.97      1.00      0.98        64\n",
      "\n",
      "    accuracy                           0.99       226\n",
      "   macro avg       0.99      0.96      0.97       226\n",
      "weighted avg       0.99      0.99      0.99       226\n",
      "\n"
     ]
    }
   ],
   "source": [
    "from sklearn.metrics import classification_report\n",
    "print(f\"Accuracy score: {model.score(X_test, y_test)}\")\n",
    "\n",
    "y_pred = model.predict(X_test)\n",
    "print(classification_report(y_test, y_pred))"
   ]
  },
  {
   "cell_type": "markdown",
   "metadata": {},
   "source": [
    "<a id = 'four'></a>\n",
    "## 4. Summary & Next Steps\n",
    "\n",
    "What have you learned about this data? What do you need to or want to look at next?\n",
    "\n"
   ]
  },
  {
   "cell_type": "raw",
   "metadata": {},
   "source": [
    "This is a toy dataset so the results seem very powerful.\n",
    "\n",
    "Next steps would include imputing missing values and encoding categorical features."
   ]
  }
 ],
 "metadata": {
  "kernelspec": {
   "display_name": "Python 3 (ipykernel)",
   "language": "python",
   "name": "python3"
  },
  "language_info": {
   "codemirror_mode": {
    "name": "ipython",
    "version": 3
   },
   "file_extension": ".py",
   "mimetype": "text/x-python",
   "name": "python",
   "nbconvert_exporter": "python",
   "pygments_lexer": "ipython3",
   "version": "3.9.12"
  }
 },
 "nbformat": 4,
 "nbformat_minor": 4
}
