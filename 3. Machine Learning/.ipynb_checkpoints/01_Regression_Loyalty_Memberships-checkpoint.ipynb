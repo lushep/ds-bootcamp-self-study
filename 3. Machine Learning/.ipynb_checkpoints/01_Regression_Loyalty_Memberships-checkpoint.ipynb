{
 "cells": [
  {
   "cell_type": "markdown",
   "metadata": {},
   "source": [
    "<img src=images/gdd-logo.png width=300px align=right>\n",
    "\n",
    "# Sklearn for Linear Regression\n",
    "\n",
    "In this notebook you will use Scikit-Learn to perform linear regression on an E-commerce Customer Dataset.\n",
    "\n",
    "## Goal\n",
    "\n",
    "The goal is to predict the ‘Yearly Amount Spent’ by a customer on an E-commerce platform, so that this information can be used to give the particular customer personalized offers or Loyalty membership etc.\n",
    "\n",
    "The notebook will help you with the initial data exploration, but you will perform the actual modelling!"
   ]
  },
  {
   "cell_type": "code",
   "execution_count": 1,
   "metadata": {},
   "outputs": [],
   "source": [
    "import pandas as pd\n",
    "import numpy as np\n",
    "import matplotlib.pyplot as plt\n",
    "import seaborn as sns\n",
    "\n",
    "%matplotlib inline"
   ]
  },
  {
   "cell_type": "markdown",
   "metadata": {},
   "source": [
    "## Loading in the data\n",
    "\n",
    "This is the dataset we will be performing linear regression on.\n",
    "\n",
    "We will try to predict ‘Yearly Amount Spent’, so this will be our target vector (=dependent variable)."
   ]
  },
  {
   "cell_type": "code",
   "execution_count": 2,
   "metadata": {
    "scrolled": true
   },
   "outputs": [
    {
     "data": {
      "text/html": [
       "<div>\n",
       "<style scoped>\n",
       "    .dataframe tbody tr th:only-of-type {\n",
       "        vertical-align: middle;\n",
       "    }\n",
       "\n",
       "    .dataframe tbody tr th {\n",
       "        vertical-align: top;\n",
       "    }\n",
       "\n",
       "    .dataframe thead th {\n",
       "        text-align: right;\n",
       "    }\n",
       "</style>\n",
       "<table border=\"1\" class=\"dataframe\">\n",
       "  <thead>\n",
       "    <tr style=\"text-align: right;\">\n",
       "      <th></th>\n",
       "      <th>email</th>\n",
       "      <th>address</th>\n",
       "      <th>avatar</th>\n",
       "      <th>avg. session length</th>\n",
       "      <th>time on app</th>\n",
       "      <th>time on website</th>\n",
       "      <th>length of membership</th>\n",
       "      <th>yearly amount spent</th>\n",
       "    </tr>\n",
       "  </thead>\n",
       "  <tbody>\n",
       "    <tr>\n",
       "      <th>0</th>\n",
       "      <td>mstephenson@fernandez.com</td>\n",
       "      <td>835 Frank Tunnel\\r\\nWrightmouth, MI 82180-9605</td>\n",
       "      <td>Violet</td>\n",
       "      <td>34.497268</td>\n",
       "      <td>12.655651</td>\n",
       "      <td>39.577668</td>\n",
       "      <td>4.082621</td>\n",
       "      <td>587.951054</td>\n",
       "    </tr>\n",
       "    <tr>\n",
       "      <th>1</th>\n",
       "      <td>hduke@hotmail.com</td>\n",
       "      <td>4547 Archer Common\\r\\nDiazchester, CA 06566-8576</td>\n",
       "      <td>DarkGreen</td>\n",
       "      <td>31.926272</td>\n",
       "      <td>11.109461</td>\n",
       "      <td>37.268959</td>\n",
       "      <td>2.664034</td>\n",
       "      <td>392.204933</td>\n",
       "    </tr>\n",
       "    <tr>\n",
       "      <th>2</th>\n",
       "      <td>pallen@yahoo.com</td>\n",
       "      <td>24645 Valerie Unions Suite 582\\r\\nCobbborough,...</td>\n",
       "      <td>Bisque</td>\n",
       "      <td>33.000915</td>\n",
       "      <td>11.330278</td>\n",
       "      <td>37.110597</td>\n",
       "      <td>4.104543</td>\n",
       "      <td>487.547505</td>\n",
       "    </tr>\n",
       "    <tr>\n",
       "      <th>3</th>\n",
       "      <td>riverarebecca@gmail.com</td>\n",
       "      <td>1414 David Throughway\\r\\nPort Jason, OH 22070-...</td>\n",
       "      <td>SaddleBrown</td>\n",
       "      <td>34.305557</td>\n",
       "      <td>13.717514</td>\n",
       "      <td>36.721283</td>\n",
       "      <td>3.120179</td>\n",
       "      <td>581.852344</td>\n",
       "    </tr>\n",
       "    <tr>\n",
       "      <th>4</th>\n",
       "      <td>mstephens@davidson-herman.com</td>\n",
       "      <td>14023 Rodriguez Passage\\r\\nPort Jacobville, PR...</td>\n",
       "      <td>MediumAquaMarine</td>\n",
       "      <td>33.330673</td>\n",
       "      <td>12.795189</td>\n",
       "      <td>37.536653</td>\n",
       "      <td>4.446308</td>\n",
       "      <td>599.406092</td>\n",
       "    </tr>\n",
       "  </tbody>\n",
       "</table>\n",
       "</div>"
      ],
      "text/plain": [
       "                           email  \\\n",
       "0      mstephenson@fernandez.com   \n",
       "1              hduke@hotmail.com   \n",
       "2               pallen@yahoo.com   \n",
       "3        riverarebecca@gmail.com   \n",
       "4  mstephens@davidson-herman.com   \n",
       "\n",
       "                                             address            avatar  \\\n",
       "0     835 Frank Tunnel\\r\\nWrightmouth, MI 82180-9605            Violet   \n",
       "1   4547 Archer Common\\r\\nDiazchester, CA 06566-8576         DarkGreen   \n",
       "2  24645 Valerie Unions Suite 582\\r\\nCobbborough,...            Bisque   \n",
       "3  1414 David Throughway\\r\\nPort Jason, OH 22070-...       SaddleBrown   \n",
       "4  14023 Rodriguez Passage\\r\\nPort Jacobville, PR...  MediumAquaMarine   \n",
       "\n",
       "   avg. session length  time on app  time on website  length of membership  \\\n",
       "0            34.497268    12.655651        39.577668              4.082621   \n",
       "1            31.926272    11.109461        37.268959              2.664034   \n",
       "2            33.000915    11.330278        37.110597              4.104543   \n",
       "3            34.305557    13.717514        36.721283              3.120179   \n",
       "4            33.330673    12.795189        37.536653              4.446308   \n",
       "\n",
       "   yearly amount spent  \n",
       "0           587.951054  \n",
       "1           392.204933  \n",
       "2           487.547505  \n",
       "3           581.852344  \n",
       "4           599.406092  "
      ]
     },
     "execution_count": 2,
     "metadata": {},
     "output_type": "execute_result"
    }
   ],
   "source": [
    "customers = (\n",
    "    pd.read_csv('data/Ecomm-Customers.csv')\n",
    "    .rename(str.lower, axis='columns')\n",
    ")\n",
    "customers.head()"
   ]
  },
  {
   "cell_type": "markdown",
   "metadata": {},
   "source": [
    "### <mark>Exercise: Perform some preliminary analysis on the dataset.</mark>\n",
    "\n",
    "* How many customers are in this dataset?"
   ]
  },
  {
   "cell_type": "code",
   "execution_count": null,
   "metadata": {},
   "outputs": [],
   "source": []
  },
  {
   "cell_type": "markdown",
   "metadata": {},
   "source": [
    "* What datatypes does the dataset contain? Are there any missing values?"
   ]
  },
  {
   "cell_type": "code",
   "execution_count": null,
   "metadata": {},
   "outputs": [],
   "source": []
  },
  {
   "cell_type": "markdown",
   "metadata": {},
   "source": [
    "* How many predictive features are there? Which features do you think might be informative for the target?"
   ]
  },
  {
   "cell_type": "code",
   "execution_count": null,
   "metadata": {},
   "outputs": [],
   "source": []
  },
  {
   "cell_type": "raw",
   "metadata": {},
   "source": [
    "Answer: "
   ]
  },
  {
   "cell_type": "markdown",
   "metadata": {},
   "source": [
    "<details>\n",
    "    \n",
    "  <summary><span style=\"color:blue\">Show answer</span></summary>\n",
    "  \n",
    "Key features:\n",
    "- avg. session length\t\n",
    "- time on app\t\n",
    "- time on website\t\n",
    "- length of membership\n",
    "\n",
    "Notes about the other features:\n",
    "- Email is unique for everyone so not going to be predictive. \n",
    "- We could maybe extract some information from address (country, area etc.) to get some more predictive features, but for now let's not focus on that.\n",
    "- Avatar could be predictive but there are so many different unique values we'd need to explore more and find a way to group them. \n",
    "    \n",
    "</details>"
   ]
  },
  {
   "cell_type": "markdown",
   "metadata": {},
   "source": [
    "* How many different values are there in the 'Yearly Amount Spent' column? Write a sentence to argue why this is a regression task, rather than a classification task."
   ]
  },
  {
   "cell_type": "code",
   "execution_count": null,
   "metadata": {},
   "outputs": [],
   "source": []
  },
  {
   "cell_type": "raw",
   "metadata": {},
   "source": [
    "Answer: "
   ]
  },
  {
   "cell_type": "markdown",
   "metadata": {},
   "source": [
    "<details>\n",
    "    \n",
    "  <summary><span style=\"color:blue\">Show answer</span></summary>\n",
    "  \n",
    "This is a regression problem due to the amount of unique target values and the fact that they are continuous.\n",
    "    \n",
    "</details>"
   ]
  },
  {
   "cell_type": "markdown",
   "metadata": {},
   "source": [
    "## Correlation\n",
    "\n",
    "*Correlation - a statistic that measures the degree to which two variables move in relation to each other.*\n",
    "\n",
    "We will try to learn a model that predicts the yearly amount spent by a customer. However, what if we are able to predict that already from one variable alone? Or what if some variables are not relevant for predicting the yearly amount spent? \n",
    "\n",
    "Let's investigate whether any of the other variables correlate with the yearly amount spent."
   ]
  },
  {
   "cell_type": "markdown",
   "metadata": {},
   "source": [
    "### Visual inspection\n",
    "\n",
    "Using pairplot we can visualise the relationship between the numerical columns."
   ]
  },
  {
   "cell_type": "code",
   "execution_count": null,
   "metadata": {},
   "outputs": [],
   "source": [
    "sns.pairplot(customers)"
   ]
  },
  {
   "cell_type": "markdown",
   "metadata": {},
   "source": [
    "From the plots, ‘Length of Membership’ and ‘Time in App’ appear to be the variables that have the most correlation with the dependent variable."
   ]
  },
  {
   "cell_type": "markdown",
   "metadata": {},
   "source": [
    "### Correlation matrix\n",
    "\n",
    "We can also compute the actual pairwise correlation of the columns."
   ]
  },
  {
   "cell_type": "code",
   "execution_count": null,
   "metadata": {},
   "outputs": [],
   "source": [
    "customers.corr()"
   ]
  },
  {
   "cell_type": "markdown",
   "metadata": {},
   "source": [
    "### Heatmap\n",
    "\n",
    "This correlation matrix can be visualised with a heatmap. "
   ]
  },
  {
   "cell_type": "code",
   "execution_count": null,
   "metadata": {
    "lines_to_next_cell": 2
   },
   "outputs": [],
   "source": [
    "sns.heatmap(customers.corr(), linewidth=0.5, annot=True);"
   ]
  },
  {
   "cell_type": "markdown",
   "metadata": {},
   "source": [
    "Along with the variables mentioned earlier, we can see that Avg. Session Length may also be informative for predicting the dependent variable."
   ]
  },
  {
   "cell_type": "markdown",
   "metadata": {},
   "source": [
    "## <mark>Exercise: Build a Linear Regression Model </mark>\n",
    "\n",
    "### <mark>1. Create Predictor variables 'X' and Target Variable 'y'</mark>\n",
    "\n",
    "For the time being, let’s form our feature matrix using the variables that appear to have a high degree of correlation with the dependent variable.\n",
    "\n",
    "Create the X and y variables. X should have **only the following** variables: `time on app` and `length of membership`.\n"
   ]
  },
  {
   "cell_type": "code",
   "execution_count": null,
   "metadata": {},
   "outputs": [],
   "source": []
  },
  {
   "cell_type": "markdown",
   "metadata": {},
   "source": [
    "### <mark>2. Split the data into a training set and a testing set.</mark>\n",
    "\n",
    "We will train our model on the training set and then use the test set to evaluate the model.\n",
    "\n",
    "Reserve 30% of the data for testing and set a random seed of 100."
   ]
  },
  {
   "cell_type": "code",
   "execution_count": null,
   "metadata": {},
   "outputs": [],
   "source": []
  },
  {
   "cell_type": "markdown",
   "metadata": {},
   "source": [
    "### <mark> 3. Import the model</mark>\n",
    "\n",
    "Look up how to import a simple [linear regression](https://scikit-learn.org/stable/modules/generated/sklearn.linear_model.LinearRegression.html)\n",
    "\n",
    "Import the model and then instantiate it."
   ]
  },
  {
   "cell_type": "code",
   "execution_count": null,
   "metadata": {},
   "outputs": [],
   "source": []
  },
  {
   "cell_type": "code",
   "execution_count": null,
   "metadata": {},
   "outputs": [],
   "source": []
  },
  {
   "cell_type": "markdown",
   "metadata": {},
   "source": [
    "### <mark>4. Train the model</mark>\n",
    "\n",
    "Fit the model to the train set."
   ]
  },
  {
   "cell_type": "code",
   "execution_count": null,
   "metadata": {},
   "outputs": [],
   "source": []
  },
  {
   "cell_type": "code",
   "execution_count": null,
   "metadata": {},
   "outputs": [],
   "source": []
  },
  {
   "cell_type": "markdown",
   "metadata": {},
   "source": [
    "**Answers:**"
   ]
  },
  {
   "cell_type": "code",
   "execution_count": null,
   "metadata": {},
   "outputs": [],
   "source": [
    "# %load answers/04_Regression_Loyalty_Memberships/create-x-y.py"
   ]
  },
  {
   "cell_type": "code",
   "execution_count": null,
   "metadata": {},
   "outputs": [],
   "source": [
    "# %load answers/04_Regression_Loyalty_Memberships/train-test-split.py"
   ]
  },
  {
   "cell_type": "code",
   "execution_count": null,
   "metadata": {},
   "outputs": [],
   "source": [
    "# %load answers/04_Regression_Loyalty_Memberships/instantiate.py"
   ]
  },
  {
   "cell_type": "code",
   "execution_count": null,
   "metadata": {},
   "outputs": [],
   "source": [
    "# %load answers/04_Regression_Loyalty_Memberships/train.py"
   ]
  },
  {
   "cell_type": "markdown",
   "metadata": {},
   "source": [
    "---\n",
    "\n",
    "# Intercept and Coefficients\n",
    "\n",
    "## 4. Investigate the model's intercept and coefficients.\n",
    "\n",
    "What are they?\n",
    "\n",
    "```python\n",
    "# Print the intercept\n",
    "print(\"Intercept\", model.intercept_)\n",
    "\n",
    "# Print the coefficients\n",
    "coeff_df = pd.DataFrame(model.coef_, X.columns, columns=['Coefficient'])\n",
    "print(coeff_df)\n",
    "```\n",
    "\n",
    "*TAKE CARE: Make sure you replace `model` if you have instantiated your model with a different name!*"
   ]
  },
  {
   "cell_type": "code",
   "execution_count": null,
   "metadata": {},
   "outputs": [],
   "source": []
  },
  {
   "cell_type": "code",
   "execution_count": null,
   "metadata": {},
   "outputs": [],
   "source": [
    "# %load answers/04_Regression_Loyalty_Memberships/int-coef.py"
   ]
  },
  {
   "cell_type": "markdown",
   "metadata": {},
   "source": [
    "### Interpreting the model (inference)\n",
    "\n",
    "a) What does the intercept represent in this context?\n",
    "\n",
    "b) What do the coefficients represent?\n",
    "\n",
    "c) Are the coefficients comparable?"
   ]
  },
  {
   "cell_type": "raw",
   "metadata": {},
   "source": [
    "Answer:\n",
    "a. \n",
    "b.\n",
    "c. "
   ]
  },
  {
   "cell_type": "markdown",
   "metadata": {},
   "source": [
    "<details>\n",
    "    \n",
    "  <summary><span style=\"color:blue\">Show answer</span></summary>\n",
    "  \n",
    "***yearly amount spent = 37.1 * Time on App + 63.5 * Length of Membership - 172.8***\n",
    "\n",
    "a. The intercept represents the value of yearly amount spent when time on app and length of membership are both 0.\n",
    "    \n",
    "b. The coefficients represent the increase of yearly amount spent when one of the features is increased by 1 unit (but everything else stays the same). \n",
    "    \n",
    "c. The coefficients are not comparable as the time on app is MUCH smaller than length of membership.\n",
    "\n",
    "</details>"
   ]
  },
  {
   "cell_type": "markdown",
   "metadata": {},
   "source": [
    "## 5. Model Predictions\n",
    "\n",
    "Use your model to make a prediction on the test set.\n",
    "\n"
   ]
  },
  {
   "cell_type": "code",
   "execution_count": null,
   "metadata": {},
   "outputs": [],
   "source": []
  },
  {
   "cell_type": "code",
   "execution_count": null,
   "metadata": {},
   "outputs": [],
   "source": [
    "# %load answers/04_Regression_Loyalty_Memberships/predictions.py"
   ]
  },
  {
   "cell_type": "markdown",
   "metadata": {},
   "source": [
    "## 6. Evaluating Predictions\n",
    "\n",
    "We want to evaluate whether we have made good predictions or not.\n",
    "\n",
    "a) Why would accuracy not be a good metric here?"
   ]
  },
  {
   "cell_type": "raw",
   "metadata": {},
   "source": [
    "Answer:"
   ]
  },
  {
   "cell_type": "markdown",
   "metadata": {},
   "source": [
    "### Visual inspection\n",
    "\n",
    "b) **Make a scatter plot** that plots the test set against your predictions.\n",
    "\n",
    "```python\n",
    "plt.scatter(y_test, y_pred)\n",
    "plt.xlabel(\"Test\")\n",
    "plt.ylabel(\"Predictions\")\n",
    "```"
   ]
  },
  {
   "cell_type": "code",
   "execution_count": null,
   "metadata": {},
   "outputs": [],
   "source": []
  },
  {
   "cell_type": "markdown",
   "metadata": {},
   "source": [
    "c) If your linear regression was really accurate what would you expect to see?\n",
    "How does yours compare?"
   ]
  },
  {
   "cell_type": "raw",
   "metadata": {},
   "source": [
    "Answer: "
   ]
  },
  {
   "cell_type": "markdown",
   "metadata": {},
   "source": [
    "<details>\n",
    "    \n",
    "  <summary><span style=\"color:blue\">Show answer</span></summary>\n",
    "\n",
    "a. Because with accuracy we are seeing how many targets we managed to get EXACTLY right. We are rarely going to ever be precise with a continuous target, but that doesn't mean we're not really close!\n",
    "    \n",
    "c. We would expect to see a diagonal line (predictions and true values match up exactly).\n",
    "\n",
    "</details>"
   ]
  },
  {
   "cell_type": "markdown",
   "metadata": {},
   "source": [
    "### Regression Metrics\n",
    "\n",
    "Rather than trying to interpret our scatter plot, we can also calculate some metrics.\n",
    "\n",
    "For example, we could calculate the average error of our regression (e.g. how wrong we were on average). The model that gives you the smallest average error would be the best.\n",
    "\n",
    "#### **Coefficient of Determination**, denoted $R^2$ \n",
    "We can use `.score()` method here which, when you apply this method to a linear regression model, returns $R^2$.\n",
    "\n",
    "Find the coefficient of determination of your model using the following:\n",
    "\n",
    "```python\n",
    "model.score(X_test, y_test)\n",
    "```"
   ]
  },
  {
   "cell_type": "code",
   "execution_count": null,
   "metadata": {},
   "outputs": [],
   "source": []
  },
  {
   "cell_type": "markdown",
   "metadata": {},
   "source": [
    "The **Coefficient of Determination**, or $R^2$ score, is a **goodness-of-fit** measurement for regression models. \n",
    "\n",
    "It is a measure of the percentage of variance in the target which the features explain collectively. \n",
    "\n",
    "Accordingly, the $R^2$ score indicates the strength of the relationship between your model and the target on a scale between **0 – 100%**."
   ]
  },
  {
   "cell_type": "markdown",
   "metadata": {},
   "source": [
    "As well as $R^2$, it is common to report one of the following: \n",
    "\n",
    "- **Mean Absolute Error (MAE)**\n",
    "    -  MAE is the sum of absolute differences between our target and predicted variables. So it measures the average magnitude of errors in a set of predictions, without considering their directions.\n",
    "- **Mean Squared Error (MSE)**\n",
    "    - The mean squared error tells you how close a regression line is to a set of points. It does this by taking the distances from the points to the regression line (these distances are the “errors”) and squaring them. The squaring is necessary to remove any negative signs.\n",
    "- **Root Mean Squared Error (RMSE)**\n",
    "    - The RMSE is the square root of the variance of the residuals. It indicates the absolute fit of the model to the data–how close the observed data points are to the model's predicted values. \n",
    "\n",
    "d) Why would it not be ok to just calculate Mean Error?"
   ]
  },
  {
   "cell_type": "raw",
   "metadata": {},
   "source": [
    "Answer: "
   ]
  },
  {
   "cell_type": "markdown",
   "metadata": {},
   "source": [
    "Import metrics from sklearn and then calulate the following:\n",
    "\n",
    "e) Mean Absolute Error (MAE), Mean Squared Error (MSE), Root Mean Squared Error (RMSE)\n",
    "\n",
    "You can find these in sklearn.metrics: \n",
    "- mean_absolute_error\n",
    "- mean_squared_error"
   ]
  },
  {
   "cell_type": "code",
   "execution_count": null,
   "metadata": {},
   "outputs": [],
   "source": []
  },
  {
   "cell_type": "markdown",
   "metadata": {},
   "source": [
    "f) What is the difference between the metrics, and what will MSE/RMSE be more sensitive to than MAE?"
   ]
  },
  {
   "cell_type": "raw",
   "metadata": {},
   "source": [
    "Answer: "
   ]
  },
  {
   "cell_type": "markdown",
   "metadata": {},
   "source": [
    "<details>\n",
    "    \n",
    "  <summary><span style=\"color:blue\">Show answer</span></summary>\n",
    "\n",
    "d. It would not be okay to calculate the mean error, since the positive and negative differences could then cancel each other out. \n",
    "    \n",
    "f. MSE/RMSE will be more sensitive to outliers in the data as larger diversions from the linear relationship will be pulled out more clearly.\n",
    "\n",
    "</details>"
   ]
  },
  {
   "cell_type": "markdown",
   "metadata": {},
   "source": [
    "## 7. Overfitting\n",
    "\n",
    "By evaluating predictions on the data we trained on, we can check for underfitting and overfitting.\n",
    "\n",
    "a) Make predictions on the train set and compute the same metrics as before (MAE, MSE & RMSE).\n",
    "\n",
    "b) What would you expect to see if we were overfitting?\n",
    "\n",
    "```python\n",
    "# get predictions for the train data\n",
    "train_pred = model.predict(X_train)\n",
    "\n",
    "# find the MAE, MSE and RMSE for the train and test data\n",
    "print('Train MAE:', metrics.mean_absolute_error(y_train, train_pred))\n",
    "print('Train MSE:', metrics.mean_squared_error(y_train, train_pred))\n",
    "print('Train RMSE:', np.sqrt(metrics.mean_squared_error(y_train, train_pred)))\n",
    "\n",
    "print('Test MAE:', metrics.mean_absolute_error(y_test, y_pred))\n",
    "print('Test MSE:', metrics.mean_squared_error(y_test, y_pred))\n",
    "print('Test RMSE:', np.sqrt(metrics.mean_squared_error(y_test, y_pred)))\n",
    "```"
   ]
  },
  {
   "cell_type": "code",
   "execution_count": null,
   "metadata": {},
   "outputs": [],
   "source": []
  },
  {
   "cell_type": "raw",
   "metadata": {},
   "source": [
    "Answer: "
   ]
  },
  {
   "cell_type": "markdown",
   "metadata": {},
   "source": [
    "<details>\n",
    "    \n",
    "  <summary><span style=\"color:blue\">Show answer</span></summary>\n",
    "\n",
    "If we were overfitting, we would expect the test scores to be much higher (so worse) compared to the train scores. \n",
    "\n",
    "</details>"
   ]
  },
  {
   "cell_type": "markdown",
   "metadata": {},
   "source": [
    "## <mark> Exercise: Incorporating more features </mark>\n",
    "\n",
    "Remember we had left out a variable which had lesser degree of positive correlation? Add that variable (`avg. session length`) and see if it improves the model."
   ]
  },
  {
   "cell_type": "code",
   "execution_count": null,
   "metadata": {},
   "outputs": [],
   "source": []
  },
  {
   "cell_type": "markdown",
   "metadata": {},
   "source": [
    "Compare performance using the same metrics as before (MAE, MSE & RMSE) when this extra information is included in the feature matrix."
   ]
  },
  {
   "cell_type": "code",
   "execution_count": null,
   "metadata": {},
   "outputs": [],
   "source": []
  },
  {
   "cell_type": "code",
   "execution_count": null,
   "metadata": {},
   "outputs": [],
   "source": [
    "# %load answers/04_Regression_Loyalty_Memberships/extra-feature.py"
   ]
  },
  {
   "cell_type": "markdown",
   "metadata": {},
   "source": [
    "# Conclusion\n",
    "\n",
    "We've now seen an example of a regression model and seen how the steps for building this follow that of what we saw in the classification examples. However, you also have learned why there is a need for different metrics, and how you can use regression metrics to evaluate your model."
   ]
  }
 ],
 "metadata": {
  "kernelspec": {
   "display_name": "Python 3",
   "language": "python",
   "name": "python3"
  },
  "language_info": {
   "codemirror_mode": {
    "name": "ipython",
    "version": 3
   },
   "file_extension": ".py",
   "mimetype": "text/x-python",
   "name": "python",
   "nbconvert_exporter": "python",
   "pygments_lexer": "ipython3",
   "version": "3.8.3"
  }
 },
 "nbformat": 4,
 "nbformat_minor": 2
}
