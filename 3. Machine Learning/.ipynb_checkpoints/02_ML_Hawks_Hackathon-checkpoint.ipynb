{
 "cells": [
  {
   "cell_type": "markdown",
   "metadata": {},
   "source": [
    "<img src=images/gdd-logo.png width=300px align=right>\n",
    "\n",
    "# Hawks Hackathon\n",
    "\n",
    "## Machine Learning Self Study\n",
    "\n",
    "## About the data\n",
    "Students and faculty at Cornell College in Mount Vernon, Iowa, collected data over many years at the hawk blind at Lake MacBride near Iowa City, Iowa. The data set that we are analyzing here is a subset of the original data set, using only those species for which there were more than 10 observations. Data were collected on random samples of three different species of hawks: Red-tailed, Sharp-shinned, and Cooper's hawks. Professor Bob Black at Cornell College shared the data. \n",
    "\n",
    "The dataset provides a great dataset for data exploration & visualisation. \n",
    "\n",
    "|Field|Description|\n",
    "|:---|:---|\n",
    "|month|\t8=September to 12=December|\n",
    "|day|\tDate in the month|\n",
    "|year|\tYear: 1992-2003|\n",
    "|capturetime|\tTime of capture (HH:MM)|\n",
    "|releasetime|\tTime of release (HH:MM)|\n",
    "|bandnumber|\tID band code|\n",
    "|species|\tCH=Cooper's, RT=Red-tailed, SS=Sharp-Shinned|\n",
    "|age|\tA=Adult or I=Imature|\n",
    "|wing|\tLength (in mm) of primary wing feather from tip to wrist it attaches to|\n",
    "|weight|\tBody weight (in gm)|\n",
    "|culmen|\tLength (in mm) of the upper bill from the tip to where it bumps into the fleshy part of the bird|\n",
    "|hallux|\tLength (in mm) of the killing talon|\n",
    "|tail|\tMeasurement (in mm) related to the length of the tail (invented at the MacBride Raptor Center)|\n",
    "|standardtail|\tStandard measurement of tail length (in mm)|\n",
    "|tarsus|\tLength of the basic foot bone (in mm)|\n",
    "|wingpitfat|\tAmount of fat in the wing pit|\n",
    "|keelfat|\tAmount of fat on the breastbone (measured by feel)|\n",
    "|crop|\tAmount of material in the crop, coded from 1=full to 0=empty|\n",
    "\n",
    "## Hackathon\n",
    "\n",
    "The goal of this hackathon is to explore data and practice your skills with building a model in sklearn.\n",
    "\n",
    "<img src='images/hawkscropped.png'> \n",
    "    \n",
    "Once you have your business goal you can follow the following steps:\n",
    "\n",
    "1. [**Load the data:**](#one)\n",
    "2. [**Exploratory Analysis:**](#two)\n",
    "3. [**Build a model**](#three)\n",
    "4. [**Summary & Next Steps:**](#four)"
   ]
  },
  {
   "cell_type": "code",
   "execution_count": null,
   "metadata": {},
   "outputs": [],
   "source": [
    "import pandas as pd\n",
    "import numpy as np"
   ]
  },
  {
   "cell_type": "markdown",
   "metadata": {},
   "source": [
    "<a id = 'one'></a>\n",
    "## 1. Loading our data\n",
    "\n",
    "There are many places your data can originate from. Maybe you want to load it from a Excel file you have stored locally on your system, maybe you have a .csv file stored online somewhere. Scikit-learn comes with various standard datasets that can be used for practice, that can be loaded if you have scikit-learn installed on your system. \n",
    "\n",
    "However, the dataset we will be using today (the R hawks dataset) does not come from scikit-learn, but from a package in R. Luckily for us we can access that data [from here](https://vincentarelbundock.github.io/Rdatasets/csv/Stat2Data/Hawks.csv)\n",
    "\n",
    "The data has been downloaded stored here: `'../data/hawks.csv'`."
   ]
  },
  {
   "cell_type": "code",
   "execution_count": null,
   "metadata": {},
   "outputs": [],
   "source": [
    "hawks = pd.read_csv('data/hawks.csv')\n",
    "hawks.head()"
   ]
  },
  {
   "cell_type": "markdown",
   "metadata": {},
   "source": [
    "<a id = 'two'></a>\n",
    "## 2. Exploratory Analysis\n",
    "\n",
    "The first thing we must do before we answer our overall goal is to ask small questions to start to understand the data. Answer the following questions (and come up with any of your own related to your overall goal):\n",
    "\n",
    "1. How many missings are there in each column?"
   ]
  },
  {
   "cell_type": "code",
   "execution_count": null,
   "metadata": {},
   "outputs": [],
   "source": []
  },
  {
   "cell_type": "markdown",
   "metadata": {},
   "source": [
    "2. What is the mean length (in mm) of the tail of the hawks?"
   ]
  },
  {
   "cell_type": "code",
   "execution_count": null,
   "metadata": {},
   "outputs": [],
   "source": []
  },
  {
   "cell_type": "markdown",
   "metadata": {},
   "source": [
    "3. What is the median tail by species?"
   ]
  },
  {
   "cell_type": "code",
   "execution_count": null,
   "metadata": {},
   "outputs": [],
   "source": []
  },
  {
   "cell_type": "markdown",
   "metadata": {},
   "source": [
    "4. How many observations do you have for each year?"
   ]
  },
  {
   "cell_type": "code",
   "execution_count": null,
   "metadata": {},
   "outputs": [],
   "source": []
  },
  {
   "cell_type": "markdown",
   "metadata": {},
   "source": [
    "5. What were the most common times of capture?"
   ]
  },
  {
   "cell_type": "code",
   "execution_count": null,
   "metadata": {},
   "outputs": [],
   "source": []
  },
  {
   "cell_type": "markdown",
   "metadata": {},
   "source": [
    "<a id = 'three'></a>\n",
    "## 3. Build a Decision Tree model\n",
    "\n",
    "1. Remove any columns with a missing value ratio of 10% or higher\n",
    "2. Drop the remaining missing values \n",
    "3. Remove any categorical columns\n",
    "4. Split the data into X and y\n",
    "5. Use the train_test_split method using a random_state\n",
    "6. Instantiate a DecisionTreeClassifier with a max_depth of 5\n",
    "7. Fit the model to `X_train` and `y_train`\n",
    "8. Calculate the `accuracy_score` and print the `classfication report`"
   ]
  },
  {
   "cell_type": "code",
   "execution_count": null,
   "metadata": {},
   "outputs": [],
   "source": []
  },
  {
   "cell_type": "code",
   "execution_count": null,
   "metadata": {},
   "outputs": [],
   "source": []
  },
  {
   "cell_type": "code",
   "execution_count": null,
   "metadata": {},
   "outputs": [],
   "source": []
  },
  {
   "cell_type": "code",
   "execution_count": null,
   "metadata": {},
   "outputs": [],
   "source": []
  },
  {
   "cell_type": "code",
   "execution_count": null,
   "metadata": {},
   "outputs": [],
   "source": []
  },
  {
   "cell_type": "markdown",
   "metadata": {},
   "source": [
    "<a id = 'four'></a>\n",
    "## 4. Summary & Next Steps\n",
    "\n",
    "What have you learned about this data? What do you need to or want to look at next?\n",
    "\n"
   ]
  },
  {
   "cell_type": "raw",
   "metadata": {},
   "source": [
    "..."
   ]
  }
 ],
 "metadata": {
  "kernelspec": {
   "display_name": "Python 3 (ipykernel)",
   "language": "python",
   "name": "python3"
  },
  "language_info": {
   "codemirror_mode": {
    "name": "ipython",
    "version": 3
   },
   "file_extension": ".py",
   "mimetype": "text/x-python",
   "name": "python",
   "nbconvert_exporter": "python",
   "pygments_lexer": "ipython3",
   "version": "3.9.13"
  }
 },
 "nbformat": 4,
 "nbformat_minor": 4
}
