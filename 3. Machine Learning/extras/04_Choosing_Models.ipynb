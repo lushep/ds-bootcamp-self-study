{
 "cells": [
  {
   "cell_type": "code",
   "execution_count": null,
   "metadata": {
    "slideshow": {
     "slide_type": "skip"
    }
   },
   "outputs": [],
   "source": [
    "%%HTML\n",
    "<link rel=\"stylesheet\" type=\"text/css\" href=\"css/custom.css\">"
   ]
  },
  {
   "cell_type": "markdown",
   "metadata": {
    "slideshow": {
     "slide_type": "slide"
    }
   },
   "source": [
    "<img src='../images/gdd-logo.png' width='300px' align='right' style=\"padding: 15px\">\n",
    "\n",
    "\n",
    "# Choosing a Machine Learning Algorithm\n",
    "\n",
    "There is no simple answer to the question what the best machine learning algorithm is for your task since every task will be different. The choice of which algorithm to use comes down to a lot of factors. We are going to cover some of these in this notebook:\n",
    "\n",
    "- [The target feature](#target)\n",
    "- [The business need](#buss)\n",
    "- [The computational time](#time)\n",
    "- [Number and type of features](#number)\n",
    "\n",
    "This is not an exhaustive list, but a good place to start when deciding on the right algorithm. Let's dive into this in more detail."
   ]
  },
  {
   "cell_type": "markdown",
   "metadata": {
    "slideshow": {
     "slide_type": "slide"
    }
   },
   "source": [
    "<img src='../images/05_Choosing_Models/target.png' width=300px align=right>\n",
    "\n",
    "<a id='target'></a>\n",
    "\n",
    "# The Target Feature\n",
    "\n",
    "First off we need to find out if we have a target feature. What kind of problems would you have where there is no existing target to predict?"
   ]
  },
  {
   "cell_type": "markdown",
   "metadata": {
    "slideshow": {
     "slide_type": "fragment"
    }
   },
   "source": [
    "- Customer segmentation - To build marketing or other business strategies\n",
    "- Genetics - E.g. clustering DNA patterns to analyze evolutionary biology\n",
    "- Recommender systems - Grouping together users with similar patterns to recommend similar content\n",
    "- Anomaly detection - Fraud detection or detecting defective mechanical parts"
   ]
  },
  {
   "cell_type": "markdown",
   "metadata": {
    "slideshow": {
     "slide_type": "fragment"
    }
   },
   "source": [
    "These kind of problems would require an **unsupervised** solution.\n",
    "\n",
    "<mark>Question: How would you evaulate the success of your models if you do not have a target? </mark> "
   ]
  },
  {
   "cell_type": "markdown",
   "metadata": {
    "slideshow": {
     "slide_type": "subslide"
    }
   },
   "source": [
    "# The Target Feature\n",
    "\n",
    "In this training we have focused on learning models to predict a target vector. This is known as **supervised** learning. \n",
    "\n",
    "When the target vector consists of categorical values it is called **classification** and when it consists of continuous values it is called **regression**."
   ]
  },
  {
   "cell_type": "markdown",
   "metadata": {
    "slideshow": {
     "slide_type": "subslide"
    }
   },
   "source": [
    "## <mark>Exercise: Decide on the Target Feature</mark>\n",
    "\n",
    "What would the target feature be for the following cases:\n",
    "\n",
    "- Predict next year's saving balances\n",
    "- Determine the cure rate for a disease\n",
    "- Create an automated filter for spam emails\n",
    "- Probability of a transaction being fraudulent\n",
    "\n",
    "Questions to ask:\n",
    "- Where does this field come from?\n",
    "- Do you need to create it?\n",
    "- If you are predicting a probability, what is a probability of? (E.g. for the use case of finding likelihood that a customer will not repay a loan, target feature is made from number of missed payments in the last 6 months)"
   ]
  },
  {
   "cell_type": "markdown",
   "metadata": {
    "slideshow": {
     "slide_type": "subslide"
    }
   },
   "source": [
    "<img src='../images/05_Choosing_Models/target.png' width=300px align=right>\n",
    "\n",
    "## Target Conclusion\n",
    "\n",
    "The target variable tells us a lot about where to start when looking for an algorithm.\n",
    "\n",
    "Questions to ask:\n",
    "- Do I have a target variable?\n",
    "- Can I create a target variable? \n",
    "- What does my target look like? (continuous vs categorical)"
   ]
  },
  {
   "cell_type": "markdown",
   "metadata": {
    "slideshow": {
     "slide_type": "slide"
    }
   },
   "source": [
    "<a id='buss'></a>\n",
    "\n",
    "<img src='../images/05_Choosing_Models/business-need.jpeg' width=300px align=right>\n",
    "\n",
    "\n",
    "# The Business Need\n",
    "\n",
    "## Accuracy vs Interpretability\n",
    "\n",
    "The **accuracy** of a model means that the predictions are close to the true responses for each observation. \n",
    "\n",
    "**Interpretability** is the degree to which a model can be understood in human terms.\n",
    "\n",
    "A highly interpretable algorithm means that we can understand what key factors go into calculating predictions, while more flexible models give higher accuracy at the cost of low interpretability."
   ]
  },
  {
   "cell_type": "markdown",
   "metadata": {
    "slideshow": {
     "slide_type": "subslide"
    }
   },
   "source": [
    "<img src='../images/05_Choosing_Models/ml-tradeoff.png'>"
   ]
  },
  {
   "cell_type": "markdown",
   "metadata": {
    "slideshow": {
     "slide_type": "subslide"
    }
   },
   "source": [
    "<img src='../images/05_Choosing_Models/business-need.jpeg' width=300px align=right>\n",
    "\n",
    "\n",
    "## The Business Need Conclusion\n",
    "\n",
    "So now the choice of algorithm depends on the objective of the business problem. \n",
    "\n",
    "- If interpretability is high priority, then restrictive models are better as they are much more interpretable. \n",
    "- If a higher accuracy is the goal, without the need for interpretability, a more flexible model would suit. The flexibility of a method increases, its interpretability decreases.\n",
    "\n",
    "Can you think of two example business cases for each of these priorities? One for interpretability and one for accuracy?"
   ]
  },
  {
   "cell_type": "markdown",
   "metadata": {
    "slideshow": {
     "slide_type": "subslide"
    }
   },
   "source": [
    "### Examples\n",
    "\n",
    "Accuracy: \n",
    "- Handwriting recognition: we don't need to know how the model knows who's handwriting it is, but we want to be as accurate as possible\n",
    "\n",
    "Interpretability:\n",
    "- Customer churn: can we identify why customers leave, and therefore stop them leaving in the future?"
   ]
  },
  {
   "cell_type": "markdown",
   "metadata": {
    "slideshow": {
     "slide_type": "slide"
    }
   },
   "source": [
    "<img src='../images/05_Choosing_Models/computer.png' width=300px align=right>\n",
    "\n",
    "<a id='time'></a>\n",
    "\n",
    "# Computational Time\n",
    "\n",
    "Higher accuracy typically means higher training time. Also, algorithms require more time to train on large training data. In real-world applications, the choice of algorithm is driven a lot by these two factors.\n",
    "\n",
    "Quick to implement/easy to run:\n",
    "- Linear Regression\n",
    "- Logistic regression\n",
    "- Simple Decision Tree\n",
    "\n",
    "More time to train the data:\n",
    "- SVM \n",
    "- Neural networks\n",
    "- Random forests"
   ]
  },
  {
   "cell_type": "markdown",
   "metadata": {
    "slideshow": {
     "slide_type": "slide"
    }
   },
   "source": [
    "<img src='../images/05_Choosing_Models/numbers.jpeg' width=300px align=right>\n",
    "\n",
    "<a id='number'></a>\n",
    "\n",
    "# Number of Features\n",
    "\n",
    "The dataset may have a large number of features that may not all be relevant and significant. For certain types of data, such as genetic or textual, the number of features can be very large compared to the number of data points.\n",
    "\n",
    "Algorithms that are heavily impacted by a large number of features (plus irrelevant or highly correlated features):\n",
    "- K-Nearest Neighbour\n",
    "- Logistic Regression\n",
    "\n",
    "A large number of features can bog down some learning algorithms, making training time long. An SVM is better suited in case of data with a large feature space and fewer observations. \n",
    "\n",
    "### Dimensionality Reduction\n",
    "\n",
    "If you have too many features, principal component analysis (PCA) and feature selection techniques can be used to reduce dimensionality and select important features without losing information."
   ]
  },
  {
   "cell_type": "markdown",
   "metadata": {
    "slideshow": {
     "slide_type": "slide"
    }
   },
   "source": [
    "# Pros and Cons of Algorithms\n",
    "\n",
    "<img src='../images/05_Choosing_Models/pros-cons.png'>"
   ]
  },
  {
   "cell_type": "markdown",
   "metadata": {
    "slideshow": {
     "slide_type": "slide"
    }
   },
   "source": [
    "# Cheatsheet\n",
    "\n",
    "A cheatsheet can be helpful, but really it's down to you, your understanding of the models and of the subject matter to make the final choice.\n",
    "\n",
    "<img src='../images/05_Choosing_Models/cheatsheet.png'>"
   ]
  },
  {
   "cell_type": "markdown",
   "metadata": {
    "slideshow": {
     "slide_type": "slide"
    }
   },
   "source": [
    "## <mark>Exercise - Making a plan for a Use Case</mark>\n",
    "\n",
    "In the assignment folder you'll find a [Choosing Models assignment](assignments/05_Choosing_Models/). In teams you will come up with a plan around a given use case. You must decide on the type of probem and algorithm you will use the solve. In particular you will answer the following questions:\n",
    "\n",
    "- Identify your target variable\n",
    "- What kind of problem do you have? A regression or classification problem?\n",
    "- Is it more important to be accurate or to have interpretability?\n",
    "- What type of model do you think would be good to use?\n",
    "- What features (besides the ones in the dataset above) might be important to include?\n",
    "- How would you determine the performance of your model? "
   ]
  }
 ],
 "metadata": {
  "celltoolbar": "Slideshow",
  "kernelspec": {
   "display_name": "Python 3 (ipykernel)",
   "language": "python",
   "name": "python3"
  },
  "language_info": {
   "codemirror_mode": {
    "name": "ipython",
    "version": 3
   },
   "file_extension": ".py",
   "mimetype": "text/x-python",
   "name": "python",
   "nbconvert_exporter": "python",
   "pygments_lexer": "ipython3",
   "version": "3.9.15"
  }
 },
 "nbformat": 4,
 "nbformat_minor": 4
}
