{
 "cells": [
  {
   "cell_type": "code",
   "execution_count": null,
   "metadata": {
    "slideshow": {
     "slide_type": "skip"
    }
   },
   "outputs": [],
   "source": [
    "%%HTML\n",
    "<link rel=\"stylesheet\" type=\"text/css\" href=\"css/custom.css\">"
   ]
  },
  {
   "cell_type": "markdown",
   "metadata": {
    "slideshow": {
     "slide_type": "slide"
    }
   },
   "source": [
    "<img src='../images/gdd-logo.png' width='300px' align='right' style=\"padding: 15px\">\n",
    "\n",
    "# Machine Learning\n",
    "\n",
    "Machine Learning has been a **buzzword** for years.\n",
    "\n",
    "It can used anywhere from automating mundane tasks to offering intelligent insights.\n",
    "\t\n",
    "\n",
    "\n",
    "\n"
   ]
  },
  {
   "cell_type": "markdown",
   "metadata": {
    "slideshow": {
     "slide_type": "fragment"
    }
   },
   "source": [
    "---\n",
    "## A Machine Learning definition\n",
    "\n",
    "Machine Learning is the study of computer algorithms that can improve automatically through experience and/or by exposure to data."
   ]
  },
  {
   "cell_type": "markdown",
   "metadata": {
    "slideshow": {
     "slide_type": "slide"
    }
   },
   "source": [
    "---\n",
    "<img src='../images/01_Machine_Learning_Intro/ml.jpeg' width='300px' align='right' style=\"padding: 20px\">\n",
    "\n",
    "## Applications\n",
    "\n",
    "There are many examples of ML in use:\n",
    "\n",
    "- **Prediction** — Using past data to make predictions of the future.\n",
    "- **Image recognition** — Detecting potential fraudsters, border control or logging in to personal devices.\n",
    "- **Speech Recognition** — The translation of spoken words into the text, voice searches, voice dialing and more.\n",
    "- **Medical diagnoses** — Machines can be trained to recognize cancerous tissues in imagery.\n",
    "- **Financial industry and trading** — Companies use ML in fraud investigations and credit checks."
   ]
  },
  {
   "cell_type": "markdown",
   "metadata": {
    "slideshow": {
     "slide_type": "slide"
    }
   },
   "source": [
    "---\n",
    "\n",
    "\n",
    "## A sub-field of Artificial Intelligence\n",
    "\n",
    "<img src='../images/01_Machine_Learning_Intro/ml-timeline.png'>"
   ]
  },
  {
   "cell_type": "markdown",
   "metadata": {
    "slideshow": {
     "slide_type": "slide"
    }
   },
   "source": [
    "## A (Very Brief) History of Machine Learning\n",
    "\n",
    "Humans have dreamt about artificial intelligence (or machines that are as intelligent as humans) since antiquity.\n",
    "\n",
    "One example is the Mechanical Turk – a fake chess-playing machine from the 18th Century (1770)\n",
    "\n",
    "<img src='../images/01_Machine_Learning_Intro/mechanical-turk.jpg' width=400px>"
   ]
  },
  {
   "cell_type": "markdown",
   "metadata": {
    "slideshow": {
     "slide_type": "subslide"
    }
   },
   "source": [
    "The first manually operated computer system, ENIAC (Electronic Numerical Integrator and Computer), was invented in the 1940s. At that time the word “computer” was being used as a name for a human with intensive numerical computation capabilities, so, ENIAC was called a numerical computing machine! Well, you may say it has nothing to do with learning?! WRONG, from the beginning the idea was to build a machine able to emulate human thinking and learning.\n",
    "\n",
    "<img src='../images/01_Machine_Learning_Intro/ml-history.jpeg' width=400px>"
   ]
  },
  {
   "cell_type": "markdown",
   "metadata": {
    "slideshow": {
     "slide_type": "subslide"
    }
   },
   "source": [
    "In the 1950s, the Georgetown University & IBM developed a machine capable of translating more than 60 Russian statements into English. The machine was able to convert Russian into its own binary language and then translate it to English, using a stored dictionary and knowledge of syntax. \n",
    "\n",
    "<img src='../images/01_Machine_Learning_Intro/georgetown.png' width=400px>\n",
    "\n",
    "“A girl who didn’t understand a word of the language of the Soviets punched out the Russian messages on IBM cards. The “brain” dashed off its English translations on an automatic printer at the breakneck speed of two and a half lines per second,” — reported the IBM press release.\n",
    "\n",
    "However, the algorithm was explicitly programmed (no learning!)\n",
    "\n",
    "\n"
   ]
  },
  {
   "cell_type": "markdown",
   "metadata": {
    "slideshow": {
     "slide_type": "subslide"
    }
   },
   "source": [
    "Later that decade, we see the development of first game-playing program, that learned to compete at checkers (draughts). This program helped checkers players a lot in improving their skills!\n",
    "\n",
    "<img src='../images/01_Machine_Learning_Intro/checker.jpg' width=400px>\n",
    "\n"
   ]
  },
  {
   "cell_type": "markdown",
   "metadata": {
    "slideshow": {
     "slide_type": "subslide"
    }
   },
   "source": [
    "The 1970s beckoned the first 'AI Winter', which was caused by pessimism about machine learning effectiveness.\n",
    "\n",
    "<img src='../images/01_Machine_Learning_Intro/frozen.jpg' width=400px>"
   ]
  },
  {
   "cell_type": "markdown",
   "metadata": {
    "slideshow": {
     "slide_type": "subslide"
    }
   },
   "source": [
    "Thanks to statistics, machine learning became very famous in the 1990s. The intersection of computer science and statistics gave birth to probabilistic approaches in AI. This shifted the field further toward data-driven approaches. Having large-scale data available, scientists started to build intelligent systems that were able to analyze and learn from large amounts of data."
   ]
  },
  {
   "cell_type": "markdown",
   "metadata": {
    "slideshow": {
     "slide_type": "slide"
    }
   },
   "source": [
    "---\n",
    "## The rise of Machine Learning\n",
    "\n",
    "1. The development of better algorithms;"
   ]
  },
  {
   "cell_type": "markdown",
   "metadata": {
    "slideshow": {
     "slide_type": "fragment"
    }
   },
   "source": [
    "2. The increase of computation power;"
   ]
  },
  {
   "cell_type": "markdown",
   "metadata": {
    "slideshow": {
     "slide_type": "fragment"
    }
   },
   "source": [
    "3. The high amount of data produced by applications."
   ]
  },
  {
   "cell_type": "markdown",
   "metadata": {
    "slideshow": {
     "slide_type": "slide"
    }
   },
   "source": [
    "---\n",
    "## ML/DL today\n",
    "\n",
    "### [This person does not exist](https://thispersondoesnotexist.com/)\n",
    "\n",
    "<img src='../images/01_Machine_Learning_Intro/notexist.png' width=400px>"
   ]
  },
  {
   "cell_type": "markdown",
   "metadata": {
    "slideshow": {
     "slide_type": "subslide"
    }
   },
   "source": [
    "## ML/DL today\n",
    "\n",
    "### AlphaGo"
   ]
  },
  {
   "cell_type": "code",
   "execution_count": null,
   "metadata": {
    "slideshow": {
     "slide_type": "fragment"
    }
   },
   "outputs": [],
   "source": [
    "from IPython.display import YouTubeVideo\n",
    "YouTubeVideo('8tq1C8spV_g', width=600, height=450)"
   ]
  },
  {
   "cell_type": "markdown",
   "metadata": {
    "slideshow": {
     "slide_type": "subslide"
    }
   },
   "source": [
    "## ML/DL today\n",
    "\n",
    "### GPT-3\n",
    "\n",
    "<img src=../images/01_Machine_Learning_Intro/code-generator.gif width=800px height=600px>"
   ]
  },
  {
   "cell_type": "markdown",
   "metadata": {
    "slideshow": {
     "slide_type": "slide"
    }
   },
   "source": [
    "---\n",
    "\n",
    "## Approaches to Machine Learning\n",
    "\n",
    "Machine Learning algorithms enable computers to learn from data, and even improve themselves, without being explicitly programmed.\n",
    "\n",
    "There are three main approaches to performing Machine Learning:\n",
    "\n",
    "<img src='../images/01_Machine_Learning_Intro/ml-types.jpeg'>"
   ]
  },
  {
   "cell_type": "markdown",
   "metadata": {
    "slideshow": {
     "slide_type": "subslide"
    }
   },
   "source": [
    "## Summary of Machine Learning approaches\n",
    "\n",
    "|Algorithm|Short Summary|\n",
    "|:---:|:---:|\n",
    "|**Supervised**|All data is **labeled** and the algorithm **learns to predict** the output from the data input|\n",
    "|**Unsupervised**|Add data is **unlabeled** and the algorithm **learns the inherent** structure from the input data|\n",
    "|**Reinforcement Learning**|An agent **maximises the level of reward** by interacting within an environment with **no intervention from a human**.|"
   ]
  },
  {
   "cell_type": "markdown",
   "metadata": {
    "slideshow": {
     "slide_type": "subslide"
    }
   },
   "source": [
    "![](../images/01_Machine_Learning_Intro/ml-robot.jpeg)"
   ]
  },
  {
   "cell_type": "markdown",
   "metadata": {
    "slideshow": {
     "slide_type": "fragment"
    }
   },
   "source": [
    "Some also consider ***semi-supervised*** to be the fourth type of Machine Learning. This is where some data is **labeled** but most of it is **unlabeled** and a **mixture of supervised and unsupervised** techniques can be used"
   ]
  },
  {
   "cell_type": "markdown",
   "metadata": {
    "slideshow": {
     "slide_type": "slide"
    }
   },
   "source": [
    "### Next Steps\n",
    "\n",
    "We will only be looking at supervised learning over this training. This is because it is the most common form of machine learning and there is so much to learn in this one area of machine learning.\n",
    "\n",
    "We will start with classification, then look into regression and finish off with building pipelines in machine learning."
   ]
  }
 ],
 "metadata": {
  "celltoolbar": "Slideshow",
  "kernelspec": {
   "display_name": "Python 3 (ipykernel)",
   "language": "python",
   "name": "python3"
  },
  "language_info": {
   "codemirror_mode": {
    "name": "ipython",
    "version": 3
   },
   "file_extension": ".py",
   "mimetype": "text/x-python",
   "name": "python",
   "nbconvert_exporter": "python",
   "pygments_lexer": "ipython3",
   "version": "3.9.7"
  }
 },
 "nbformat": 4,
 "nbformat_minor": 4
}
