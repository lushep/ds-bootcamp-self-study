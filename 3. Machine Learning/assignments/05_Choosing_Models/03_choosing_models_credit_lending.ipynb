{
 "cells": [
  {
   "cell_type": "markdown",
   "metadata": {},
   "source": [
    "# Situation 3: Credit Lending\n",
    "\n",
    "You work at a Bank in the credit risk department. Your stakeholders want to be able to determine the level of risk for all internal customers, so that if the customer applies for a new product (eg. loan, credit card, overdraft, mortgage) the correct decision can be made as to whether they should get the product or not.\n",
    "\n",
    "The problem with the curent set up is that each individual product has their own way of determining a customer's level of risk. This means that a customer may be rejected to extend their overdraft to €2.000 but accepted to have a loan of €2.000 at the same time. \n",
    "\n",
    "This is providing a bad customer journey which is why the bank wants to consolidate this view of risk so that consistent lending decisions can be made.\n",
    "\n",
    "Often customers who get rejected will complain about their decision so it is important that we can send advisers to them to talk through their situation and suggest a good option for their lending.\n",
    "\n",
    "**Note:** The regulators consider customers are \"unable to repay\" when they have missed 3 payments (on any product) in the last 2 years. \n",
    "\n",
    "<img src=\"images/credit.jpeg\" style=\"display: block;margin-left: auto;margin-right: auto;height: 200px\"/>"
   ]
  },
  {
   "cell_type": "markdown",
   "metadata": {},
   "source": [
    "## About the data\n",
    "\n",
    "We have access to data on 150,000 customers.\n",
    "\n",
    "The unable to repay flag is named `bad_flag` and is determined using the description above. The rest of the features in the dataset are described below:\n",
    "\n",
    "|Variable Name|\tDescription\t|Type|\n",
    "|:---|:---|:---|\n",
    "|rev_unsecured|\tTotal balance on loans (no real estate) as a percentage of the total loan taken \t|percentage|\n",
    "|age\t|Age of borrower in years\t|integer|\n",
    "|days_past_due_30\t|Number of times borrower has been 30-59 days past due in the last |2 years |integer|\n",
    "|debt_ratio\t|Monthly debt payments, alimony, living costs divided by monthy gross income|\tfloat (%)|\n",
    "|income |\tMonthly income\t|float|\n",
    "|num_credit\t|Number of Open loans (car loan, mortgage, credit cards etc.)\t|integer|\n",
    "|num_days_late\t|Number of times borrower has been 90 days or more past due.\t|integer|\n",
    "|num_realestate\t|Number of mortgage and real estate loans including home equity lines of credit\t|integer|\n",
    "|days_past_due_60\t|Number of times borrower has been 60-89 days past due in the last 2 years.|\tinteger|\n",
    "|num_deps|\tNumber of dependents in family excluding themselves (spouse, children etc.)\t|integer|\n",
    "|bad_flag\t|Missed 3 monthly payments or more in past two years |\tY/N|"
   ]
  },
  {
   "cell_type": "markdown",
   "metadata": {},
   "source": [
    "## Notes"
   ]
  },
  {
   "cell_type": "markdown",
   "metadata": {},
   "source": [
    "1. What is your target feature?\n",
    "\n",
    "HINT: It is not credit score. Credit score is created from the probability of being \"unable to repay\"."
   ]
  },
  {
   "cell_type": "raw",
   "metadata": {},
   "source": []
  },
  {
   "cell_type": "markdown",
   "metadata": {},
   "source": [
    "2. Do you have a regression or classification problem?"
   ]
  },
  {
   "cell_type": "raw",
   "metadata": {},
   "source": []
  },
  {
   "cell_type": "markdown",
   "metadata": {},
   "source": [
    "3. Is it more important to be accurate or to have interpretability?"
   ]
  },
  {
   "cell_type": "raw",
   "metadata": {},
   "source": []
  },
  {
   "cell_type": "markdown",
   "metadata": {},
   "source": [
    "4. What type of model do you think would be good to use?"
   ]
  },
  {
   "cell_type": "raw",
   "metadata": {},
   "source": []
  },
  {
   "cell_type": "markdown",
   "metadata": {},
   "source": [
    "5. What features (besides the ones in the dataset above) might be important to include?"
   ]
  },
  {
   "cell_type": "raw",
   "metadata": {},
   "source": []
  },
  {
   "cell_type": "markdown",
   "metadata": {},
   "source": [
    "6. How would you determine the performance of your model? If you know some metrics list them, if not what do you think would be important to consider?"
   ]
  },
  {
   "cell_type": "raw",
   "metadata": {},
   "source": []
  }
 ],
 "metadata": {
  "kernelspec": {
   "display_name": "Python 3 (ipykernel)",
   "language": "python",
   "name": "python3"
  },
  "language_info": {
   "codemirror_mode": {
    "name": "ipython",
    "version": 3
   },
   "file_extension": ".py",
   "mimetype": "text/x-python",
   "name": "python",
   "nbconvert_exporter": "python",
   "pygments_lexer": "ipython3",
   "version": "3.9.7"
  }
 },
 "nbformat": 4,
 "nbformat_minor": 4
}
