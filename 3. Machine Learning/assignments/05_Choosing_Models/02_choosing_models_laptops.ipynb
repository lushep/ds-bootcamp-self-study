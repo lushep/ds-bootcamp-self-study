{
 "cells": [
  {
   "cell_type": "markdown",
   "metadata": {},
   "source": [
    "# Situation 2: Laptop Prices\n",
    "\n",
    "You are about to be moved into a brand new team and everyone will need to buy a new laptop this time next year. Everyone has submitted some specifications they'd like their laptop to be (weight, RAM, memory, GPU, Manufacturer etc.) and you want to be able to estimate the cost of these new laptops.\n",
    "\n",
    "You have data on a collection laptops along with the prices that they are. Your model should be able to determine the price of the laptop based on the information you have. \n",
    "\n",
    "Since you want to keep costs down you want to be able to interpret your model so that you know which specifications/details cause the laptop's price to change the most and therefore what to suggest people compromise on the most to reduce costs. \n",
    "\n",
    "<img src=\"images/laptop.jpeg\" style=\"display: block;margin-left: auto;margin-right: auto;height: 200px\"/>\n",
    "\n"
   ]
  },
  {
   "cell_type": "markdown",
   "metadata": {},
   "source": [
    "## About the Data \n",
    "\n",
    "We have data for around 1300 laptops and no missing values.\n",
    "\n",
    "The features in the dataset are described below:\n",
    "\n",
    "|Column|Type|Description|\n",
    "|---|---|---|\n",
    "| company| String |Laptop Manufacturer|\n",
    "| product |String |Brand and Model|\n",
    "| type_name |String |Type (Notebook, Ultrabook, Gaming, etc.)|\n",
    "| inches |Numeric|Screen Size|\n",
    "| screen_resolution |String| Screen Resolution|\n",
    "| ram |String|Laptop RAM in GB|\n",
    "| weight |String| Laptop Weight in kilograms|\n",
    "| price |Numeric| Price (Euro)|"
   ]
  },
  {
   "cell_type": "markdown",
   "metadata": {},
   "source": [
    "## Notes"
   ]
  },
  {
   "cell_type": "markdown",
   "metadata": {},
   "source": [
    "1. What is your target feature? (i.e. what are you using to build you model?)"
   ]
  },
  {
   "cell_type": "raw",
   "metadata": {},
   "source": []
  },
  {
   "cell_type": "markdown",
   "metadata": {},
   "source": [
    "2. Do you have a regression or classification problem?"
   ]
  },
  {
   "cell_type": "raw",
   "metadata": {},
   "source": []
  },
  {
   "cell_type": "markdown",
   "metadata": {},
   "source": [
    "3. Is it more important to be accurate or to have interpretability?"
   ]
  },
  {
   "cell_type": "raw",
   "metadata": {},
   "source": []
  },
  {
   "cell_type": "markdown",
   "metadata": {},
   "source": [
    "4. What type of model do you think would be good to use?"
   ]
  },
  {
   "cell_type": "raw",
   "metadata": {},
   "source": []
  },
  {
   "cell_type": "markdown",
   "metadata": {},
   "source": [
    "5. What features (besides the ones in the dataset above) might be important to include?"
   ]
  },
  {
   "cell_type": "raw",
   "metadata": {},
   "source": []
  },
  {
   "cell_type": "markdown",
   "metadata": {},
   "source": [
    "6. How would you determine the performance of your model? If you know some metrics list them, if not what do you think would be important to consider?"
   ]
  },
  {
   "cell_type": "raw",
   "metadata": {},
   "source": []
  }
 ],
 "metadata": {
  "kernelspec": {
   "display_name": "Python 3 (ipykernel)",
   "language": "python",
   "name": "python3"
  },
  "language_info": {
   "codemirror_mode": {
    "name": "ipython",
    "version": 3
   },
   "file_extension": ".py",
   "mimetype": "text/x-python",
   "name": "python",
   "nbconvert_exporter": "python",
   "pygments_lexer": "ipython3",
   "version": "3.9.7"
  }
 },
 "nbformat": 4,
 "nbformat_minor": 4
}
