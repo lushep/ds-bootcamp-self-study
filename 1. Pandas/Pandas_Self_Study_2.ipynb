{
 "cells": [
  {
   "cell_type": "markdown",
   "id": "19edd4da",
   "metadata": {},
   "source": [
    "<img src=images/gdd-logo.png align=right width=300px>\n",
    "\n",
    "# Self Study - Pandas 2\n",
    "\n",
    "Welcome to the Pandas independent study part 2! Here you will review some of the key methods used in Pandas to perform data wrangling.\n",
    "\n",
    "To practice these skills we will be using data about the Netflix shows available on US Netflix.\n",
    "\n",
    "- [About the data](#about)\n",
    "- [Aggregations](#agg)\n",
    "    - [<mark>Exercises</mark>](#agg-ex)\n",
    "    - [<mark>Answers</mark>](#agg-an)\n",
    "- [Creating Columns](#cc)\n",
    "    - [<mark>Exercises</mark>](#cc-ex)\n",
    "    - [<mark>Answers</mark>](#cc-an)"
   ]
  },
  {
   "cell_type": "markdown",
   "id": "82316bde",
   "metadata": {},
   "source": [
    "<img src=images/netflix.png align=right width=200px>\n",
    "\n",
    "<a id='about'></a>\n",
    "\n",
    "## About the data\n",
    "\n",
    "The data is shared through the CC0: Public Domain via [Kaggle](https://www.kaggle.com/shivamb/netflix-shows/version/5). \n",
    "\n",
    "This dataset has the listings of movies and tv shows available on US Netflix, along with details such as - cast, directors, ratings, release year, duration, etc."
   ]
  },
  {
   "cell_type": "code",
   "execution_count": null,
   "id": "63ca5945",
   "metadata": {},
   "outputs": [],
   "source": [
    "import pandas as pd"
   ]
  },
  {
   "cell_type": "code",
   "execution_count": null,
   "id": "512c290f",
   "metadata": {},
   "outputs": [],
   "source": [
    "netflix = pd.read_csv('data/netflix.csv')\n",
    "netflix.head()"
   ]
  },
  {
   "cell_type": "markdown",
   "id": "c6019617",
   "metadata": {},
   "source": [
    "--- \n",
    "<a id='agg'></a>\n",
    "\n",
    "## Aggregations\n",
    "\n",
    "When analysing data, often you will want to find out some aggregates based on certain categories. \n",
    "\n",
    "For example, the total of sales for different areas of a business."
   ]
  },
  {
   "cell_type": "markdown",
   "id": "f8a56cc7",
   "metadata": {},
   "source": [
    "<a id='agg-ex'></a>\n",
    "\n",
    "## <mark>Exercises</mark>\n",
    "\n",
    "1. What year was the oldest movie and TV show first release? (What is the minimum of the release year grouped by type)"
   ]
  },
  {
   "cell_type": "code",
   "execution_count": null,
   "id": "6493c355",
   "metadata": {},
   "outputs": [],
   "source": [
    "# code goes here\n"
   ]
  },
  {
   "cell_type": "raw",
   "id": "e1ba55a5",
   "metadata": {},
   "source": [
    "Answer: "
   ]
  },
  {
   "cell_type": "markdown",
   "id": "7f876441",
   "metadata": {},
   "source": [
    "2. Produce a table that gives an overview of how many shows & movies were added to netflix by year & month. \n",
    "- group by `'year_added'` and `'month_added'` \n",
    "- perform the `.size()` method to count how many additions there were\n",
    "- use the parameter `index=False` in the `.groupby()` method so that the output is a dataframe\n",
    "\n",
    "There was only one month in 2003 where content was added, what month was this? "
   ]
  },
  {
   "cell_type": "code",
   "execution_count": null,
   "id": "95a29c2b",
   "metadata": {},
   "outputs": [],
   "source": [
    "# code goes here\n"
   ]
  },
  {
   "cell_type": "raw",
   "id": "5d458c08",
   "metadata": {},
   "source": [
    "Answer: "
   ]
  },
  {
   "cell_type": "markdown",
   "id": "fb4f69fc",
   "metadata": {},
   "source": [
    "3. Find out how Movies and TV Shows were released per year for the last 10 years\n",
    "- groupby `'release_year'` and `'type'`\n",
    "- use `.size()` to count up the amount in each group\n",
    "- use `.unstack()` to see this value side-by-side\n",
    "- use `.tail()` to only see the last ten rows\n",
    "\n",
    "How many Movies and TV Shows were released in `2016`?"
   ]
  },
  {
   "cell_type": "code",
   "execution_count": null,
   "id": "8bcb9a0a",
   "metadata": {},
   "outputs": [],
   "source": [
    "# code goes here\n"
   ]
  },
  {
   "cell_type": "raw",
   "id": "9b0bf3cb",
   "metadata": {},
   "source": [
    "Answer: "
   ]
  },
  {
   "cell_type": "markdown",
   "id": "366e1f68",
   "metadata": {},
   "source": [
    "<a id='agg-an'></a>\n",
    "\n",
    "### <mark>Answers</mark>"
   ]
  },
  {
   "cell_type": "code",
   "execution_count": null,
   "id": "4d8ab068",
   "metadata": {},
   "outputs": [],
   "source": [
    "%load answers/aggregations-1.py"
   ]
  },
  {
   "cell_type": "code",
   "execution_count": null,
   "id": "6607e461",
   "metadata": {},
   "outputs": [],
   "source": [
    "%load answers/aggregations-2.py"
   ]
  },
  {
   "cell_type": "code",
   "execution_count": null,
   "id": "350b77c3",
   "metadata": {},
   "outputs": [],
   "source": [
    "%load answers/aggregations-3.py"
   ]
  },
  {
   "cell_type": "markdown",
   "id": "28ae835e",
   "metadata": {},
   "source": [
    "---\n",
    "\n",
    "<a id='cc'></a>\n",
    "\n",
    "## Creating Columns\n",
    "\n",
    "The following code is often used to create columns:\n",
    "```python\n",
    "df['new_col'] = df['old_col'].some_method()\n",
    "```\n",
    "\n",
    "However this will overwrite the existing dataframe by adding a new column, and before we know it things get out of hand.\n",
    "\n",
    "It also means that we lose out on some benefits like chaining! Hence best practice is to use the `.assign()` method. For example:"
   ]
  },
  {
   "cell_type": "markdown",
   "id": "e8122d1b",
   "metadata": {},
   "source": [
    "<a id='cc-ex'></a>\n",
    "\n",
    "### <mark>Exercises</mark>\n",
    "\n",
    "1. Create a column that shows how long it took for shows and movies to make it on to Netflix after they were released. \n",
    "\n",
    "- use the assign method to make a new column `time_to_netflix`\n",
    "- find the difference of `'year_added'` and `'release_year'`\n",
    "\n",
    "What is the average number of years for a show or movie to make it to Netflix? \n",
    "- select the new column \n",
    "- use the `.mean()` method to find the amount of time taken on average\n",
    "\n",
    "**Bonus**: find the average for movies and TV shows separately)"
   ]
  },
  {
   "cell_type": "code",
   "execution_count": null,
   "id": "8af19462",
   "metadata": {},
   "outputs": [],
   "source": [
    "# code goes here\n"
   ]
  },
  {
   "cell_type": "raw",
   "id": "1e1d3b1d",
   "metadata": {},
   "source": [
    "Answer: "
   ]
  },
  {
   "cell_type": "markdown",
   "id": "c6637377",
   "metadata": {},
   "source": [
    "2. Add to the answers from part 3 of the aggregations exercies. Add a column that shows how many more movies there have been that TV Shows in the last 10 years.\n",
    "\n",
    "In which years were there more TV Shows released than movies?\n",
    "\n",
    "(You can use your own code from part 3 above or you can load in the answers)"
   ]
  },
  {
   "cell_type": "code",
   "execution_count": null,
   "id": "b93283c8",
   "metadata": {},
   "outputs": [],
   "source": [
    "# %load answers/aggregations-3.py\n",
    "# code goes here\n"
   ]
  },
  {
   "cell_type": "raw",
   "id": "7a9cd18e",
   "metadata": {},
   "source": [
    "Answer: "
   ]
  },
  {
   "cell_type": "markdown",
   "id": "3b4c567b",
   "metadata": {},
   "source": [
    "3. Create a new column which contains the first topic from `'listed_in'`\n",
    "- Use the assign method with a lambda function to create a new column `dominant_topic`\n",
    "- Use the `.str.split(',')` method on the `'listed_in'` column to split the contents by the commas\n",
    "- Chain on the slicer `.str[0]` to capture the first item as defined by the split done previously\n",
    "\n",
    "One show has a dominant topic of `'TV Sci-Fi & Fantasy'`. What is the description of that show?"
   ]
  },
  {
   "cell_type": "code",
   "execution_count": null,
   "id": "f70773ed",
   "metadata": {},
   "outputs": [],
   "source": [
    "# code goes here\n"
   ]
  },
  {
   "cell_type": "raw",
   "id": "0167b3b8",
   "metadata": {},
   "source": [
    "Answer: "
   ]
  },
  {
   "cell_type": "markdown",
   "id": "242a609c",
   "metadata": {},
   "source": [
    "<a id='cc-an'></a>\n",
    "\n",
    "### <mark>Answers</mark>"
   ]
  },
  {
   "cell_type": "code",
   "execution_count": null,
   "id": "23188e7b",
   "metadata": {},
   "outputs": [],
   "source": [
    "%load answers/columns-1.py"
   ]
  },
  {
   "cell_type": "code",
   "execution_count": null,
   "id": "90f8d512",
   "metadata": {},
   "outputs": [],
   "source": [
    "%load answers/columns-1-bonus.py"
   ]
  },
  {
   "cell_type": "code",
   "execution_count": null,
   "id": "a5c53737",
   "metadata": {},
   "outputs": [],
   "source": [
    "%load answers/columns-2.py"
   ]
  },
  {
   "cell_type": "code",
   "execution_count": null,
   "id": "f0e66e9e",
   "metadata": {},
   "outputs": [],
   "source": [
    "%load answers/columns-3.py"
   ]
  }
 ],
 "metadata": {
  "kernelspec": {
   "display_name": "Python 3 (ipykernel)",
   "language": "python",
   "name": "python3"
  },
  "language_info": {
   "codemirror_mode": {
    "name": "ipython",
    "version": 3
   },
   "file_extension": ".py",
   "mimetype": "text/x-python",
   "name": "python",
   "nbconvert_exporter": "python",
   "pygments_lexer": "ipython3",
   "version": "3.9.7"
  }
 },
 "nbformat": 4,
 "nbformat_minor": 5
}
