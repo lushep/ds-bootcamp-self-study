{
 "cells": [
  {
   "cell_type": "markdown",
   "id": "7aadf994",
   "metadata": {},
   "source": [
    "<img src=images/gdd-logo.png align=right width=300px>\n",
    "\n",
    "# Self Study - Pandas 1\n",
    "\n",
    "Welcome to the Pandas independent study part 1! Here you will review some of the key methods used in Pandas to perform simple data exploration as well as selecting and filtering data.\n",
    "\n",
    "To practice these skills we will be using data about the Netflix shows available on US Netflix.\n",
    "\n",
    "- [About the data](#about)\n",
    "- [Data Exploration](#de)\n",
    "    - [<mark>Exercises</mark>](#de-ex)\n",
    "    - [<mark>Answers</mark>](#de-an)\n",
    "- [Selecting rows and columns](#se)\n",
    "    - [<mark>Exercises</mark>](#se-ex)\n",
    "    - [<mark>Answers</mark>](#se-an)\n",
    "- [Filtering](#fi)\n",
    "    - [<mark>Exercises</mark>](#fi-ex)\n",
    "    - [<mark>Answers</mark>](#fi-an)"
   ]
  },
  {
   "cell_type": "markdown",
   "id": "989fdbc8",
   "metadata": {},
   "source": [
    "<img src=images/netflix.png align=right width=200px>\n",
    "\n",
    "<a id='about'></a>\n",
    "\n",
    "## About the data\n",
    "\n",
    "The data is shared through the CC0: Public Domain via [Kaggle](https://www.kaggle.com/shivamb/netflix-shows/version/5). \n",
    "\n",
    "This dataset has the listings of movies and tv shows available on US Netflix, along with details such as - cast, directors, ratings, release year, duration, etc."
   ]
  },
  {
   "cell_type": "code",
   "execution_count": null,
   "id": "49c38b44",
   "metadata": {},
   "outputs": [],
   "source": [
    "import pandas as pd"
   ]
  },
  {
   "cell_type": "code",
   "execution_count": null,
   "id": "1f34d9f2",
   "metadata": {},
   "outputs": [],
   "source": [
    "netflix = pd.read_csv('data/netflix.csv')\n",
    "netflix.head()"
   ]
  },
  {
   "cell_type": "markdown",
   "id": "2e6aa573",
   "metadata": {},
   "source": [
    "--- \n",
    "<a id='de'></a>\n",
    "\n",
    "## Data Exploration\n",
    "\n",
    "Data Exploration is a really important step in any data analysis. You should use it to get to know your data and answer any questions you might have about the data."
   ]
  },
  {
   "cell_type": "markdown",
   "id": "3c44d7e4",
   "metadata": {},
   "source": [
    "<a id='de-ex'></a>\n",
    "\n",
    "### <mark>Exercises</mark>\n",
    "\n",
    "Use the following methods to answer the questions below and come up with one (simple) question and answer it using pandas methods.\n",
    "\n",
    "- `df.shape`\n",
    "- `df.info()`\n",
    "- `df.describe()`\n",
    "- `df['col'].unique()`\n",
    "- `df['col'].value_counts()`\n",
    "\n",
    "Code and raw cells have been provided to write your code in and to write an answer to each question."
   ]
  },
  {
   "cell_type": "markdown",
   "id": "60f8fc28",
   "metadata": {},
   "source": [
    "1. How many rows and columns are there in the dataframe?"
   ]
  },
  {
   "cell_type": "code",
   "execution_count": null,
   "id": "e06d502f",
   "metadata": {},
   "outputs": [],
   "source": [
    "# code goes here\n"
   ]
  },
  {
   "cell_type": "raw",
   "id": "c062609b",
   "metadata": {},
   "source": [
    "Answer: "
   ]
  },
  {
   "cell_type": "markdown",
   "id": "b7dd957c",
   "metadata": {},
   "source": [
    "2. There are 5 columns that have missing values, what are they?"
   ]
  },
  {
   "cell_type": "code",
   "execution_count": null,
   "id": "f5e4bd2b",
   "metadata": {},
   "outputs": [],
   "source": [
    "# code goes here\n"
   ]
  },
  {
   "cell_type": "raw",
   "id": "d06cc131",
   "metadata": {},
   "source": [
    "Answer: "
   ]
  },
  {
   "cell_type": "markdown",
   "id": "5bbd013f",
   "metadata": {},
   "source": [
    "3. In what year was the oldest thing on Netflix released?"
   ]
  },
  {
   "cell_type": "code",
   "execution_count": null,
   "id": "41f0979b",
   "metadata": {},
   "outputs": [],
   "source": [
    "# code goes here\n"
   ]
  },
  {
   "cell_type": "raw",
   "id": "651ffa24",
   "metadata": {},
   "source": [
    "Answer: "
   ]
  },
  {
   "cell_type": "markdown",
   "id": "a2c21f94",
   "metadata": {},
   "source": [
    "4. How many different types of ratings are there?"
   ]
  },
  {
   "cell_type": "code",
   "execution_count": null,
   "id": "cf4bd525",
   "metadata": {},
   "outputs": [],
   "source": [
    "# code goes here\n"
   ]
  },
  {
   "cell_type": "raw",
   "id": "8f30f2a7",
   "metadata": {},
   "source": [
    "Answer: "
   ]
  },
  {
   "cell_type": "markdown",
   "id": "8e926e23",
   "metadata": {},
   "source": [
    "5. Which is the second highest countries for the most shows/movies released?"
   ]
  },
  {
   "cell_type": "code",
   "execution_count": null,
   "id": "8ddeeefb",
   "metadata": {},
   "outputs": [],
   "source": [
    "# code goes here\n"
   ]
  },
  {
   "cell_type": "raw",
   "id": "b8acde9a",
   "metadata": {},
   "source": [
    "Answer: "
   ]
  },
  {
   "cell_type": "markdown",
   "id": "b4b574a5",
   "metadata": {},
   "source": [
    "<a id='de-an'></a>\n",
    "\n",
    "### <mark>Answers to Part 1</mark>"
   ]
  },
  {
   "cell_type": "code",
   "execution_count": null,
   "id": "33e3c0df",
   "metadata": {},
   "outputs": [],
   "source": [
    "%load answers/data-exploration-1.py"
   ]
  },
  {
   "cell_type": "code",
   "execution_count": null,
   "id": "ab7e59d6",
   "metadata": {},
   "outputs": [],
   "source": [
    "%load answers/data-exploration-2.py"
   ]
  },
  {
   "cell_type": "code",
   "execution_count": null,
   "id": "dfcc4af4",
   "metadata": {},
   "outputs": [],
   "source": [
    "%load answers/data-exploration-3.py"
   ]
  },
  {
   "cell_type": "code",
   "execution_count": null,
   "id": "39427457",
   "metadata": {},
   "outputs": [],
   "source": [
    "%load answers/data-exploration-4.py"
   ]
  },
  {
   "cell_type": "code",
   "execution_count": null,
   "id": "bef8f067",
   "metadata": {},
   "outputs": [],
   "source": [
    "%load answers/data-exploration-5.py"
   ]
  },
  {
   "cell_type": "markdown",
   "id": "37d2afaa",
   "metadata": {},
   "source": [
    "---\n",
    "<a id='se'></a>\n",
    "## Selections\n",
    "\n",
    "When working with data you often need to find a subset of the data. \n",
    "\n",
    "You can easily select the top/bottom of the data using `df.head()` and `df.tail()`."
   ]
  },
  {
   "cell_type": "code",
   "execution_count": null,
   "id": "5aceed9c",
   "metadata": {},
   "outputs": [],
   "source": [
    "netflix.head()"
   ]
  },
  {
   "cell_type": "code",
   "execution_count": null,
   "id": "cebaba2f",
   "metadata": {},
   "outputs": [],
   "source": [
    "netflix.tail()"
   ]
  },
  {
   "cell_type": "markdown",
   "id": "3df36e59",
   "metadata": {},
   "source": [
    "Before doing this, it makes sense to sort the data so that you are selecting a particular subset of the data. "
   ]
  },
  {
   "cell_type": "code",
   "execution_count": null,
   "id": "8d9fdd1d",
   "metadata": {},
   "outputs": [],
   "source": [
    "(\n",
    "    netflix\n",
    "    .sort_values('director')\n",
    "    .head()\n",
    ")"
   ]
  },
  {
   "cell_type": "markdown",
   "id": "4245c852",
   "metadata": {},
   "source": [
    "As well as this you can use the `.loc[]` method to select a slice of the rows, using the index values."
   ]
  },
  {
   "cell_type": "code",
   "execution_count": null,
   "id": "c5a02faf",
   "metadata": {},
   "outputs": [],
   "source": [
    "netflix.loc[300:305]"
   ]
  },
  {
   "cell_type": "markdown",
   "id": "fb7e5c9a",
   "metadata": {},
   "source": [
    "### <mark>Exercises</mark>\n",
    "\n",
    "1. Select the first 5 films after sorting the `title` alphabetically. All these films begin with the same character, what is it?"
   ]
  },
  {
   "cell_type": "code",
   "execution_count": null,
   "id": "b13ab4cc",
   "metadata": {},
   "outputs": [],
   "source": [
    "# code goes here\n"
   ]
  },
  {
   "cell_type": "markdown",
   "id": "48e39008",
   "metadata": {},
   "source": [
    "Answer:"
   ]
  },
  {
   "cell_type": "markdown",
   "id": "042fcf8c",
   "metadata": {},
   "source": [
    "2. Change the number in the following code (`8500`) until you only have rows containing films that begin with `z`, they should be the last rows of the data. What number is the lowest possible number you can have?"
   ]
  },
  {
   "cell_type": "code",
   "execution_count": null,
   "id": "c6879ca7",
   "metadata": {},
   "outputs": [],
   "source": [
    "# code goes here\n"
   ]
  },
  {
   "cell_type": "raw",
   "id": "95319fa2",
   "metadata": {},
   "source": [
    "Answer: "
   ]
  },
  {
   "cell_type": "markdown",
   "id": "47b90065",
   "metadata": {},
   "source": [
    "3. Find the 5 oldest films that are available on Netflix. There are 2 directors responsible for these films (and one unknown). Who are these directors?"
   ]
  },
  {
   "cell_type": "code",
   "execution_count": null,
   "id": "ec70f555",
   "metadata": {},
   "outputs": [],
   "source": [
    "# code goes here\n"
   ]
  },
  {
   "cell_type": "raw",
   "id": "6f8686eb",
   "metadata": {},
   "source": [
    "Answer:"
   ]
  },
  {
   "cell_type": "markdown",
   "id": "d832cb5e",
   "metadata": {},
   "source": [
    "### <mark>Answers</mark>"
   ]
  },
  {
   "cell_type": "code",
   "execution_count": null,
   "id": "e88d0224",
   "metadata": {},
   "outputs": [],
   "source": [
    "%load answers/selections-1.py"
   ]
  },
  {
   "cell_type": "code",
   "execution_count": null,
   "id": "23d00fe5",
   "metadata": {},
   "outputs": [],
   "source": [
    "%load answers/selections-2.py"
   ]
  },
  {
   "cell_type": "code",
   "execution_count": null,
   "id": "3d436410",
   "metadata": {},
   "outputs": [],
   "source": [
    "%load answers/selections-3.py"
   ]
  },
  {
   "cell_type": "markdown",
   "id": "f004d600",
   "metadata": {},
   "source": [
    "---\n",
    "\n",
    "<a id='fi'></a>\n",
    "## Filtering\n",
    "\n",
    "Now we are going to use the lambda function to do some filtering. \n",
    "\n",
    "Remember that to filter we use the following syntax.\n",
    "\n",
    "```python\n",
    "dataframe.loc[lambda df: df['col']=='value']\n",
    "```\n",
    "Where...\n",
    "- dataframe is the name of the data (in this case netflix):\n",
    "- `'col'` is the column we want to filter\n",
    "- `==` is the comparison, also available are: `!=`, `<`, `>`, `<=`, `>=`\n",
    "- `'value'` is how we want to filter, this could be a string or a number\n",
    "\n",
    "Below is an example using the netflix data:"
   ]
  },
  {
   "cell_type": "code",
   "execution_count": null,
   "id": "2b9ead0a",
   "metadata": {},
   "outputs": [],
   "source": [
    "netflix.loc[lambda df: df['show_id'] == 's6240']"
   ]
  },
  {
   "cell_type": "markdown",
   "id": "35606422",
   "metadata": {},
   "source": [
    "<a id='fi-ex'></a>\n",
    "\n",
    "### <mark>Exercises</mark>\n",
    "\n",
    "1. Filter the data to only show TV Shows. How many TV Shows are there?"
   ]
  },
  {
   "cell_type": "code",
   "execution_count": null,
   "id": "06149c93",
   "metadata": {},
   "outputs": [],
   "source": [
    "# code goes here\n"
   ]
  },
  {
   "cell_type": "raw",
   "id": "e4adaec0",
   "metadata": {},
   "source": [
    "Answer: "
   ]
  },
  {
   "cell_type": "markdown",
   "id": "6a490db4",
   "metadata": {},
   "source": [
    "2. In the questions above you found the earliest release date. Use this number to filter the data and find out what show on Netflix was released in that year. You should find that the show was added on `December 30, 2018`, are you correct?"
   ]
  },
  {
   "cell_type": "code",
   "execution_count": null,
   "id": "1f43ba59",
   "metadata": {
    "scrolled": true
   },
   "outputs": [],
   "source": [
    "# code goes here\n"
   ]
  },
  {
   "cell_type": "raw",
   "id": "ebf042d2",
   "metadata": {},
   "source": [
    "Answer: "
   ]
  },
  {
   "cell_type": "markdown",
   "id": "3918bcf4",
   "metadata": {},
   "source": [
    "3. In 2021 the most watched TV Show was a show that has `12 Seasons` on Netflix, and was added to Netflix on `June 30, 2017`. What was the show?"
   ]
  },
  {
   "cell_type": "code",
   "execution_count": null,
   "id": "e08f0c1e",
   "metadata": {},
   "outputs": [],
   "source": [
    "# code goes here\n"
   ]
  },
  {
   "cell_type": "raw",
   "id": "1dafcdc9",
   "metadata": {},
   "source": [
    "Answer: "
   ]
  },
  {
   "cell_type": "markdown",
   "id": "8cc6ebdc",
   "metadata": {},
   "source": [
    "4. Your friend watched a film the other day and wants to recommend it, but can't remember the name. This is the information he remembers, can you find it?\n",
    "\n",
    "    1. The move was **listed in** `Comedies, Independent Movies`\n",
    "    2. The movie was definitely **released** after `2010` then added to Netflix later\n",
    "    3. The **rating** for the movie was `R`\n",
    "    4. The **title** of the movie only had **one word***\n",
    "    5. The **director was also the leading actor** in the movie*"
   ]
  },
  {
   "cell_type": "code",
   "execution_count": null,
   "id": "fb48fd1d",
   "metadata": {},
   "outputs": [],
   "source": [
    "# code goes here\n"
   ]
  },
  {
   "cell_type": "raw",
   "id": "4e65faad",
   "metadata": {},
   "source": [
    "Answer: "
   ]
  },
  {
   "cell_type": "markdown",
   "id": "7a27ced1",
   "metadata": {},
   "source": [
    "**NOTE**: Part D* & E* are optional to perform in pandas, as you can use visual inspection after you have filtered for the first three parts. However you can do it if you'd like a challenge! Run the below cell if you would like hints on how to do this!"
   ]
  },
  {
   "cell_type": "code",
   "execution_count": null,
   "id": "57deb1ac",
   "metadata": {},
   "outputs": [],
   "source": [
    "%load answers/hint-filtering-partD.py"
   ]
  },
  {
   "cell_type": "code",
   "execution_count": null,
   "id": "db1487a7",
   "metadata": {},
   "outputs": [],
   "source": [
    "%load answers/hint-filtering-partE.py"
   ]
  },
  {
   "cell_type": "markdown",
   "id": "1e24aec3",
   "metadata": {},
   "source": [
    "<a id='fi-an'></a>\n",
    "### Answers to Filtering"
   ]
  },
  {
   "cell_type": "code",
   "execution_count": null,
   "id": "c23d1dc7",
   "metadata": {},
   "outputs": [],
   "source": [
    "%load answers/filtering-1.py"
   ]
  },
  {
   "cell_type": "code",
   "execution_count": null,
   "id": "a8ac1025",
   "metadata": {},
   "outputs": [],
   "source": [
    "%load answers/filtering-2.py"
   ]
  },
  {
   "cell_type": "code",
   "execution_count": null,
   "id": "2d4d010e",
   "metadata": {},
   "outputs": [],
   "source": [
    "%load answers/filtering-3.py"
   ]
  },
  {
   "cell_type": "code",
   "execution_count": null,
   "id": "3c089370",
   "metadata": {},
   "outputs": [],
   "source": [
    "%load answers/filtering-4.py"
   ]
  }
 ],
 "metadata": {
  "kernelspec": {
   "display_name": "Python 3 (ipykernel)",
   "language": "python",
   "name": "python3"
  },
  "language_info": {
   "codemirror_mode": {
    "name": "ipython",
    "version": 3
   },
   "file_extension": ".py",
   "mimetype": "text/x-python",
   "name": "python",
   "nbconvert_exporter": "python",
   "pygments_lexer": "ipython3",
   "version": "3.9.7"
  }
 },
 "nbformat": 4,
 "nbformat_minor": 5
}
