{
 "cells": [
  {
   "cell_type": "markdown",
   "id": "87ff8f0d",
   "metadata": {},
   "source": [
    "# Option 2: Data Visualisation Review with Altair\n",
    "\n",
    "In this notebook we shall use Python to create some plots and visualisations for the [\"Wine\" dataset](https://scikit-learn.org/stable/modules/generated/sklearn.datasets.load_wine.html).\n",
    "\n",
    "The data is the results of a chemical analysis of wines grown in the same\n",
    "region in Italy by three different cultivators. There are thirteen different\n",
    "measurements taken for different constituents found in the three types of\n",
    "wine.\n",
    "\n",
    "![](images/wine.jpeg)"
   ]
  },
  {
   "cell_type": "markdown",
   "id": "678dde4a",
   "metadata": {},
   "source": [
    "## Load the dataset"
   ]
  },
  {
   "cell_type": "markdown",
   "id": "700b6a73",
   "metadata": {},
   "source": [
    "The dataset is loaded from the `data/` folder"
   ]
  },
  {
   "cell_type": "code",
   "execution_count": null,
   "id": "ceb16242",
   "metadata": {},
   "outputs": [],
   "source": [
    "import pandas as pd\n",
    "wine = pd.read_csv('data/wine.csv')\n",
    "wine.head()"
   ]
  },
  {
   "cell_type": "markdown",
   "id": "20048ba8",
   "metadata": {},
   "source": [
    "## Altair"
   ]
  },
  {
   "cell_type": "code",
   "execution_count": null,
   "id": "874e95ca",
   "metadata": {},
   "outputs": [],
   "source": [
    "import altair as alt\n",
    "\n",
    "# This line enables altair to run in your notebook with a live internet connection. \n",
    "alt.renderers.enable('default')\n",
    "\n",
    "# Optionally, for offline rendering in Jupyter Notebook, you can use the notebook renderer:\n",
    "# alt.renderers.enable('notebook')"
   ]
  },
  {
   "cell_type": "markdown",
   "id": "c216290a",
   "metadata": {},
   "source": [
    "a. Create an Altair plot that plots alcohol against color intensity."
   ]
  },
  {
   "cell_type": "code",
   "execution_count": null,
   "id": "17f9939e",
   "metadata": {},
   "outputs": [],
   "source": [
    "# %load answers/altair_a.py"
   ]
  },
  {
   "cell_type": "markdown",
   "id": "451f4a29",
   "metadata": {},
   "source": [
    "b. Create an Altair plot that plots alcohol against color intensity, where\n",
    "- the different categories of wine should be shown in different colors (e.g. blue, orange, red),\n",
    "- when you hover on a point it shows the exact alcohol content and color intensity,\n",
    "- the plot is a different size to the default Altair chart size,\n",
    "- the plot is interactive (i.e. you can zoom in and out).\n"
   ]
  },
  {
   "cell_type": "code",
   "execution_count": null,
   "id": "bd833c29",
   "metadata": {},
   "outputs": [],
   "source": [
    "# %load answers/altair_b.py"
   ]
  },
  {
   "cell_type": "markdown",
   "id": "09aa3b6e",
   "metadata": {},
   "source": [
    "c. Create an Altair plot that horizontally stacks a plot of alcohol content against color intensity and alcohol content against magnesium content."
   ]
  },
  {
   "cell_type": "code",
   "execution_count": null,
   "id": "8cdaecaa",
   "metadata": {},
   "outputs": [],
   "source": [
    "# %load answers/altair_c.py"
   ]
  }
 ],
 "metadata": {
  "kernelspec": {
   "display_name": "Python 3 (ipykernel)",
   "language": "python",
   "name": "python3"
  },
  "language_info": {
   "codemirror_mode": {
    "name": "ipython",
    "version": 3
   },
   "file_extension": ".py",
   "mimetype": "text/x-python",
   "name": "python",
   "nbconvert_exporter": "python",
   "pygments_lexer": "ipython3",
   "version": "3.9.12"
  }
 },
 "nbformat": 4,
 "nbformat_minor": 5
}
